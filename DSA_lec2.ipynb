{
 "cells": [
  {
   "cell_type": "code",
   "execution_count": 1,
   "id": "7f88da79",
   "metadata": {},
   "outputs": [
    {
     "name": "stdout",
     "output_type": "stream",
     "text": [
      "126\n"
     ]
    }
   ],
   "source": [
    "l1=[2,7,12,9,27,32,37]\n",
    "sum1=0\n",
    "for i in l1:\n",
    "    sum1+=i\n",
    "print(sum1)"
   ]
  },
  {
   "cell_type": "code",
   "execution_count": 2,
   "id": "e5a25f38",
   "metadata": {},
   "outputs": [
    {
     "data": {
      "text/plain": [
       "126"
      ]
     },
     "execution_count": 2,
     "metadata": {},
     "output_type": "execute_result"
    }
   ],
   "source": [
    "sum(l1)"
   ]
  },
  {
   "cell_type": "code",
   "execution_count": 3,
   "id": "d2d76e57",
   "metadata": {},
   "outputs": [],
   "source": [
    "#method definiition of the sum function\n",
    "#Time Complexity:O(n)\n",
    "##space comnplexity: O(1)\n",
    "\n",
    "\n",
    "def summation(arr):\n",
    "    n=len(arr)\n",
    "    sumVal=0\n",
    "    for i in range(n):\n",
    "        sumVal+=arr[i]\n",
    "    return sumVal\n",
    "        "
   ]
  },
  {
   "cell_type": "code",
   "execution_count": 5,
   "id": "8564a06c",
   "metadata": {},
   "outputs": [
    {
     "data": {
      "text/plain": [
       "126"
      ]
     },
     "execution_count": 5,
     "metadata": {},
     "output_type": "execute_result"
    }
   ],
   "source": [
    "summation(l1)"
   ]
  },
  {
   "cell_type": "code",
   "execution_count": 7,
   "id": "3de2e8c5",
   "metadata": {},
   "outputs": [],
   "source": [
    "#insert element in arr\n",
    "arr=[23,34,56,78,89]\n",
    "arr.insert(1,24)"
   ]
  },
  {
   "cell_type": "code",
   "execution_count": 8,
   "id": "d69fbf49",
   "metadata": {},
   "outputs": [
    {
     "data": {
      "text/plain": [
       "[23, 24, 34, 56, 78, 89]"
      ]
     },
     "execution_count": 8,
     "metadata": {},
     "output_type": "execute_result"
    }
   ],
   "source": [
    "arr"
   ]
  },
  {
   "cell_type": "code",
   "execution_count": 9,
   "id": "fa772ef6",
   "metadata": {
    "scrolled": true
   },
   "outputs": [
    {
     "data": {
      "text/plain": [
       "24"
      ]
     },
     "execution_count": 9,
     "metadata": {},
     "output_type": "execute_result"
    }
   ],
   "source": [
    "arr.pop(1)"
   ]
  },
  {
   "cell_type": "code",
   "execution_count": 10,
   "id": "39bc2976",
   "metadata": {},
   "outputs": [
    {
     "data": {
      "text/plain": [
       "[23, 34, 56, 78, 89]"
      ]
     },
     "execution_count": 10,
     "metadata": {},
     "output_type": "execute_result"
    }
   ],
   "source": [
    "arr"
   ]
  },
  {
   "cell_type": "code",
   "execution_count": 26,
   "id": "b8b52c01",
   "metadata": {},
   "outputs": [
    {
     "data": {
      "text/plain": [
       "7"
      ]
     },
     "execution_count": 26,
     "metadata": {},
     "output_type": "execute_result"
    }
   ],
   "source": [
    "#ex2\n",
    "#space complexity:-O(1)\n",
    "#time complexity:-O(n)\n",
    "def findVal(arr,target):\n",
    "    for i in arr:\n",
    "        if target in arr:\n",
    "            return arr.index(target) \n",
    "        else:\n",
    "            return -1\n",
    "        \n",
    "arr=[12,14,16,18,11,22,26,29]\n",
    "target=29\n",
    "findVal(arr,target)\n",
    "\n",
    "# def linearSearch(arr,target):\n",
    "#     for i in range(len(arr)):\n",
    "#         if (arr[i]==target):\n",
    "#             return i\n",
    "        \n",
    "#     return -1\n"
   ]
  },
  {
   "cell_type": "code",
   "execution_count": 27,
   "id": "e22bf5da",
   "metadata": {},
   "outputs": [
    {
     "data": {
      "text/plain": [
       "([2, 18, 22], [5, 11, 13, 15])"
      ]
     },
     "execution_count": 27,
     "metadata": {},
     "output_type": "execute_result"
    }
   ],
   "source": [
    "#Time Complexity:-O(n)\n",
    "#Space Complextiy:-O(n)\n",
    "##creating an external data structure to store the even and odd values.a\n",
    "\n",
    "\n",
    "even=[]\n",
    "odd=[]\n",
    "def evenAndodd(arr):\n",
    "    for i in arr:\n",
    "        if i%2==0:\n",
    "            even.append(i)\n",
    "        else:\n",
    "            odd.append(i)\n",
    "    return even,odd\n",
    "\n",
    "arr=[2,5,11,13,15,18,22]\n",
    "evenAndodd(arr)\n"
   ]
  },
  {
   "cell_type": "code",
   "execution_count": 29,
   "id": "5a5030dd",
   "metadata": {},
   "outputs": [
    {
     "name": "stdout",
     "output_type": "stream",
     "text": [
      "Primary Diagonal Sum= 32\n",
      "Secondary Diagonal Sum= 31\n"
     ]
    }
   ],
   "source": [
    "#example\n",
    "#2D-Array->Rows/colums\n",
    "#TIME COMPLEXITY:-O(n**2)\n",
    "#Space complexiyy:-O(1)\n",
    "\n",
    "def printDiagonalSum(arr,n):\n",
    "    n=len(arr)\n",
    "    primaryDiagonalSum=0\n",
    "    secondaryDiagonalSum=0\n",
    "    for i in range(n):\n",
    "        for j in range(n):\n",
    "            #condition to get the element of primary diagonal\n",
    "            if i == j:\n",
    "                primaryDiagonalSum+=arr[i][j]\n",
    "            ##condition to get the elements of secondary diagonal\n",
    "            if ((i+j) == (n-1)):\n",
    "                secondaryDiagonalSum+=arr[i][j]\n",
    "    print(\"Primary Diagonal Sum=\",primaryDiagonalSum)\n",
    "    print(\"Secondary Diagonal Sum=\",secondaryDiagonalSum)\n",
    "\n",
    "\n",
    "#driver code\n",
    "arr=[[2,4,6],[8,11,13],[14,17,19]]\n",
    "n=3#len of square matrix,order of square matrix\n",
    "printDiagonalSum(arr,n)"
   ]
  },
  {
   "cell_type": "code",
   "execution_count": null,
   "id": "68aa1366",
   "metadata": {},
   "outputs": [],
   "source": []
  }
 ],
 "metadata": {
  "kernelspec": {
   "display_name": "Python 3 (ipykernel)",
   "language": "python",
   "name": "python3"
  },
  "language_info": {
   "codemirror_mode": {
    "name": "ipython",
    "version": 3
   },
   "file_extension": ".py",
   "mimetype": "text/x-python",
   "name": "python",
   "nbconvert_exporter": "python",
   "pygments_lexer": "ipython3",
   "version": "3.11.5"
  }
 },
 "nbformat": 4,
 "nbformat_minor": 5
}
