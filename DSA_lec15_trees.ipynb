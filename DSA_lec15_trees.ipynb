{
 "cells": [
  {
   "cell_type": "code",
   "execution_count": 8,
   "id": "dd7b0f7a",
   "metadata": {},
   "outputs": [],
   "source": [
    "class TreeNode:\n",
    "    def __init__(self,data):\n",
    "        self.data = data;\n",
    "        self.left = None\n",
    "        self.right = None\n",
    "    def setData(self,data):\n",
    "        self.data = data\n",
    "    def getData(self):\n",
    "        return self.data\n",
    "    \n",
    "    def setLeft(self,node):\n",
    "        self.left = node\n",
    "    def getLeft(self):\n",
    "        return self.left\n",
    "    \n",
    "    def setRight(self,node):\n",
    "        self.right = node\n",
    "    def getRight(self):\n",
    "        return self.right"
   ]
  },
  {
   "cell_type": "code",
   "execution_count": 9,
   "id": "0f818e70",
   "metadata": {},
   "outputs": [],
   "source": [
    "#Construct the tree\n",
    "root = TreeNode(1)\n",
    "\n",
    "#Left SubTree\n",
    "leftR = TreeNode(2)\n",
    "leftR.setLeft(TreeNode(3))\n",
    "leftR.setRight(TreeNode(4))\n",
    "root.setLeft(leftR)\n",
    "\n",
    "#Right SubTree\n",
    "rightR = TreeNode(5)\n",
    "rightR.setLeft(TreeNode(6))\n",
    "rightR.setRight(TreeNode(7))\n",
    "root.setRight(rightR)"
   ]
  },
  {
   "cell_type": "code",
   "execution_count": 5,
   "id": "0bcff445",
   "metadata": {},
   "outputs": [],
   "source": [
    "#Preorder Traversal\n",
    "\n",
    "def preOrder(root):\n",
    "    #Base Condition\n",
    "    if not root:\n",
    "        return\n",
    "    print(root.getData(),end=\"->\")\n",
    "    \n",
    "    #preOrder traversal of left subtree\n",
    "    preOrder(root.getLeft())\n",
    "    #preOrder traversal of right subtree\n",
    "    preOrder(root.getRight())"
   ]
  },
  {
   "cell_type": "code",
   "execution_count": 6,
   "id": "9824085e",
   "metadata": {},
   "outputs": [
    {
     "name": "stdout",
     "output_type": "stream",
     "text": [
      "1->2->3->4->5->6->7->"
     ]
    }
   ],
   "source": [
    "preOrder(root)"
   ]
  },
  {
   "cell_type": "code",
   "execution_count": 8,
   "id": "15283640",
   "metadata": {},
   "outputs": [],
   "source": [
    " def inOrder(root):\n",
    "        #Base Condition\n",
    "        if not root:\n",
    "            return\n",
    "        #Traverse the left Subtree\n",
    "        inOrder(root.getLeft())\n",
    "        \n",
    "        #Print the root\n",
    "        print(root.getData(),end=\"->\")\n",
    "        \n",
    "        #Traverse the right subree\n",
    "        inOrder(root.getRight())"
   ]
  },
  {
   "cell_type": "code",
   "execution_count": 9,
   "id": "26eb30f8",
   "metadata": {},
   "outputs": [
    {
     "name": "stdout",
     "output_type": "stream",
     "text": [
      "3->2->4->1->6->5->7->"
     ]
    }
   ],
   "source": [
    "inOrder(root)"
   ]
  },
  {
   "cell_type": "code",
   "execution_count": 10,
   "id": "fbb9eed9",
   "metadata": {},
   "outputs": [],
   "source": [
    "def postOrder(root):\n",
    "    #Base condition\n",
    "    if not root:\n",
    "        return\n",
    "    \n",
    "    postOrder(root.getLeft())\n",
    "    \n",
    "    postOrder(root.getRight())\n",
    "    \n",
    "    print(root.getData(),end=\"->\")"
   ]
  },
  {
   "cell_type": "code",
   "execution_count": 11,
   "id": "e5573b54",
   "metadata": {},
   "outputs": [
    {
     "name": "stdout",
     "output_type": "stream",
     "text": [
      "3->4->2->6->7->5->1->"
     ]
    }
   ],
   "source": [
    "postOrder(root)"
   ]
  },
  {
   "cell_type": "code",
   "execution_count": 4,
   "id": "a5c62605",
   "metadata": {},
   "outputs": [],
   "source": [
    "class Node:\n",
    "    def __init__(self,data,next=None):\n",
    "        self.data = data\n",
    "        self.next = next\n",
    "    \n",
    "    def getData(self):\n",
    "        return self.data\n",
    "    def setData(self,data):\n",
    "        self.data = data\n",
    "    def setNext(self,next):\n",
    "        self.next = next\n",
    "    def getNext(self):\n",
    "        return self.next"
   ]
  },
  {
   "cell_type": "code",
   "execution_count": 5,
   "id": "c837868f",
   "metadata": {},
   "outputs": [],
   "source": [
    "class QueueLL:\n",
    "    def __init__(self):\n",
    "        self.head = None\n",
    "        self.tail = None\n",
    "        self.size = 0\n",
    "        \n",
    "    def isEmpty(self):\n",
    "        return self.head == None #self.tail == None\n",
    "    #no need for isFull cause LL in dynamic\n",
    "    \n",
    "    def enQueue(self,data):\n",
    "        node = Node(data)\n",
    "        \n",
    "        if self.isEmpty():\n",
    "            self.head = node\n",
    "            self.tail = node\n",
    "        else:\n",
    "            self.tail.setNext(node)\n",
    "            self.tail = self.tail.getNext()\n",
    "        self.size +=1\n",
    "        \n",
    "    def deQueue(self):\n",
    "        if self.isEmpty():\n",
    "            print(\"Queue Underflow\")\n",
    "            return\n",
    "        data = self.head.getData()\n",
    "        \n",
    "        #check if it's the only element\n",
    "        if (self.head == self.tail):\n",
    "            self.head = None\n",
    "            self.tail = None #Because after dequeue ,Queue will be empty\n",
    "        else:\n",
    "            self.head = self.head.getNext()\n",
    "        self.size -=1\n",
    "        return data\n",
    "    def traverse(self):\n",
    "        temp = self.head\n",
    "        while(temp):\n",
    "            print(temp.getData(),end=\"->\")\n",
    "            temp = temp.getNext()\n",
    "        print()\n",
    "        "
   ]
  },
  {
   "cell_type": "code",
   "execution_count": 6,
   "id": "b7679ddd",
   "metadata": {},
   "outputs": [],
   "source": [
    "#Level Order Traversal(BFS)\n",
    "def levelOrder(root):\n",
    "    if not root:\n",
    "        return\n",
    "    q = QueueLL()\n",
    "    q.enQueue(root)\n",
    "    while not q.isEmpty():\n",
    "        #Deque the element from the queue\n",
    "        temp = q.deQueue()\n",
    "        print(temp.getData(),end=\"->\")\n",
    "        \n",
    "        if temp.getLeft():\n",
    "            q.enQueue(temp.getLeft())\n",
    "        if temp.getRight():\n",
    "            q.enQueue(temp.getRight())\n",
    "            \n",
    "        "
   ]
  },
  {
   "cell_type": "code",
   "execution_count": 10,
   "id": "8b40113f",
   "metadata": {},
   "outputs": [
    {
     "name": "stdout",
     "output_type": "stream",
     "text": [
      "1->2->5->3->4->6->7->"
     ]
    }
   ],
   "source": [
    "levelOrder(root)"
   ]
  },
  {
   "cell_type": "code",
   "execution_count": 11,
   "id": "ccfb30bf",
   "metadata": {},
   "outputs": [],
   "source": [
    "#find the maximum from the given tree\n",
    "def maximum(a,b,c):\n",
    "    if a>=b:\n",
    "        if a>=c:\n",
    "            return a\n",
    "        else:\n",
    "            return c\n",
    "    else:\n",
    "        if b>=c:\n",
    "            return b\n",
    "        else:\n",
    "            return c"
   ]
  },
  {
   "cell_type": "code",
   "execution_count": 14,
   "id": "669aea38",
   "metadata": {},
   "outputs": [],
   "source": [
    "def max(root):\n",
    "    if not root:\n",
    "        return float('-inf')#represents the num smaller than all other numbers\n",
    "    max_left = max(root.getLeft())\n",
    "    max_right = max(root.getRight())\n",
    "    return maximum(max_left,max_right,root.getData())"
   ]
  },
  {
   "cell_type": "code",
   "execution_count": 15,
   "id": "2fd02907",
   "metadata": {},
   "outputs": [
    {
     "data": {
      "text/plain": [
       "7"
      ]
     },
     "execution_count": 15,
     "metadata": {},
     "output_type": "execute_result"
    }
   ],
   "source": [
    "max(root)"
   ]
  },
  {
   "cell_type": "code",
   "execution_count": 36,
   "id": "48c83101",
   "metadata": {},
   "outputs": [],
   "source": [
    "def minimum(a, b, c):\n",
    "    if a <= b and a <= c:\n",
    "        return a\n",
    "    elif b <= a and b <= c:\n",
    "        return b\n",
    "    else:\n",
    "        return c"
   ]
  },
  {
   "cell_type": "code",
   "execution_count": 39,
   "id": "7b9d4262",
   "metadata": {},
   "outputs": [],
   "source": [
    "def min1(root):\n",
    "    if not root:\n",
    "        return float('inf')#represents the num smaller than all other numbers\n",
    "    min_left = min1(root.getLeft())\n",
    "    min_right = min1(root.getRight())\n",
    "    return minimum(min_left,min_right,root.getData())"
   ]
  },
  {
   "cell_type": "code",
   "execution_count": 40,
   "id": "058ed0bf",
   "metadata": {},
   "outputs": [
    {
     "data": {
      "text/plain": [
       "1"
      ]
     },
     "execution_count": 40,
     "metadata": {},
     "output_type": "execute_result"
    }
   ],
   "source": [
    "min1(root)"
   ]
  },
  {
   "cell_type": "code",
   "execution_count": null,
   "id": "dd4690c6",
   "metadata": {},
   "outputs": [],
   "source": []
  }
 ],
 "metadata": {
  "kernelspec": {
   "display_name": "Python 3 (ipykernel)",
   "language": "python",
   "name": "python3"
  },
  "language_info": {
   "codemirror_mode": {
    "name": "ipython",
    "version": 3
   },
   "file_extension": ".py",
   "mimetype": "text/x-python",
   "name": "python",
   "nbconvert_exporter": "python",
   "pygments_lexer": "ipython3",
   "version": "3.11.5"
  }
 },
 "nbformat": 4,
 "nbformat_minor": 5
}
