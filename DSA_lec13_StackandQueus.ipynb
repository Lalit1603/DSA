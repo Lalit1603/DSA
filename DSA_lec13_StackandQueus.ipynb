{
 "cells": [
  {
   "cell_type": "code",
   "execution_count": 5,
   "id": "47bc6d6a",
   "metadata": {},
   "outputs": [],
   "source": [
    "class Node:\n",
    "    def __init__(self,data,next=None):\n",
    "        self.data = data\n",
    "        self.next = next\n",
    "    \n",
    "    def getData(self):\n",
    "        return self.data\n",
    "    def setData(self,data):\n",
    "        self.data = data\n",
    "    def setNext(self,next):\n",
    "        self.next = next\n",
    "    def getNext(self):\n",
    "        return self.next"
   ]
  },
  {
   "cell_type": "code",
   "execution_count": 6,
   "id": "4cbeba2e",
   "metadata": {},
   "outputs": [],
   "source": [
    "#Delete the Middle element of the array\n",
    "class StackLL:\n",
    "    def __init__(self):\n",
    "        self.head = None # in the beginiing stack is empty so head is none\n",
    "    def isEmpty(self):\n",
    "        return self.head == None # begining head is none\n",
    "    def isFull(self):pass#this is for dynamic sizing no need of these methood\n",
    "    \n",
    "    def push(self,data):\n",
    "        node = Node(data)\n",
    "        node.setNext(self.head)\n",
    "        self.head = node \n",
    "    def pop(self):\n",
    "        if(self.isEmpty()):\n",
    "            print(\"Stack UnderFlow\")\n",
    "            return\n",
    "        data = self.head.getData()\n",
    "        self.head = self.head.getNext()\n",
    "        return data \n",
    "    def peek(self):\n",
    "        if(self.isEmpty()):\n",
    "            print(\"Stack UnderFlow\")\n",
    "            return\n",
    "        data = self.head.getData() #No changes in the head\n",
    "        return data \n",
    "    \n",
    "    def size(self):#find the current size of stack\n",
    "        size = 0\n",
    "        temp = self.head\n",
    "        while(temp):#while(prev.getNext()!=None):\n",
    "            size+=1\n",
    "            temp = temp.getNext()\n",
    "        return size\n",
    "    \n",
    "    def traverse(self):#Traverse the elements of the stack\n",
    "        temp = self.head\n",
    "        while(temp):\n",
    "            print(temp.getData(), end=\"->\")\n",
    "            temp = temp.getNext()"
   ]
  },
  {
   "cell_type": "code",
   "execution_count": 7,
   "id": "6368d406",
   "metadata": {},
   "outputs": [],
   "source": [
    "stack = StackLL()\n",
    "stack.push(5)\n",
    "stack.push(1)\n",
    "stack.push(3)\n",
    "stack.push(4)\n",
    "stack.push(2)"
   ]
  },
  {
   "cell_type": "code",
   "execution_count": 8,
   "id": "17d26efa",
   "metadata": {},
   "outputs": [
    {
     "data": {
      "text/plain": [
       "5"
      ]
     },
     "execution_count": 8,
     "metadata": {},
     "output_type": "execute_result"
    }
   ],
   "source": [
    "stack.size()"
   ]
  },
  {
   "cell_type": "code",
   "execution_count": 9,
   "id": "910354a8",
   "metadata": {},
   "outputs": [
    {
     "name": "stdout",
     "output_type": "stream",
     "text": [
      "2->4->3->1->5->"
     ]
    }
   ],
   "source": [
    "stack.traverse()"
   ]
  },
  {
   "cell_type": "code",
   "execution_count": 14,
   "id": "4c375757",
   "metadata": {},
   "outputs": [],
   "source": [
    "def deleteMiddle(stack):\n",
    "    #Implements this method using ->push/pop/peek\n",
    "    #using extra stack\n",
    "    s2 = StackLL()\n",
    "    \n",
    "    size = stack.size()\n",
    "    count = 0\n",
    "    \n",
    "    while(count < int(size/2)):\n",
    "        s2.push(stack.pop())\n",
    "        count+=1\n",
    "    stack.pop()\n",
    "    while(not s2.isEmpty()):\n",
    "        stack.push(s2.pop())\n",
    "deleteMiddle(stack)   "
   ]
  },
  {
   "cell_type": "code",
   "execution_count": 15,
   "id": "c7013378",
   "metadata": {},
   "outputs": [
    {
     "name": "stdout",
     "output_type": "stream",
     "text": [
      "2->4->1->5->"
     ]
    }
   ],
   "source": [
    "stack.traverse()"
   ]
  },
  {
   "cell_type": "code",
   "execution_count": 16,
   "id": "e71e21b6",
   "metadata": {},
   "outputs": [],
   "source": [
    "deleteMiddle(stack)"
   ]
  },
  {
   "cell_type": "code",
   "execution_count": 18,
   "id": "8899412f",
   "metadata": {},
   "outputs": [
    {
     "name": "stdout",
     "output_type": "stream",
     "text": [
      "2->4->5->"
     ]
    }
   ],
   "source": [
    "stack.traverse()"
   ]
  },
  {
   "cell_type": "code",
   "execution_count": 23,
   "id": "5c38b673",
   "metadata": {},
   "outputs": [],
   "source": [
    "#Delete a Middle element in Stack without using extra space\n",
    "#Using recursion acheive the same\n",
    "def deleteMiddleRec(s,sizeofStack,curr):\n",
    "    if (s.isEmpty() or curr == sizeofStack):\n",
    "        return\n",
    "    x = s.pop()\n",
    "    \n",
    "    #Recursively call the fun\n",
    "    deleteMiddleRec(s,sizeofStack,curr+1)\n",
    "    \n",
    "    #put the item back\n",
    "    if (curr != int(sizeofStack/2)):\n",
    "        s.push(x)\n",
    "        "
   ]
  },
  {
   "cell_type": "code",
   "execution_count": 21,
   "id": "107f3111",
   "metadata": {},
   "outputs": [],
   "source": [
    "s = StackLL()\n",
    "s.push(3)\n",
    "s.push(1)\n",
    "s.push(2)\n",
    "\n",
    "size = s.size()"
   ]
  },
  {
   "cell_type": "code",
   "execution_count": 22,
   "id": "731019de",
   "metadata": {},
   "outputs": [
    {
     "name": "stdout",
     "output_type": "stream",
     "text": [
      "2->1->3->"
     ]
    }
   ],
   "source": [
    "s.traverse()"
   ]
  },
  {
   "cell_type": "code",
   "execution_count": 24,
   "id": "e2b18f2d",
   "metadata": {},
   "outputs": [],
   "source": [
    "deleteMiddleRec(s,size,0)"
   ]
  },
  {
   "cell_type": "code",
   "execution_count": 26,
   "id": "6cdd6bf8",
   "metadata": {},
   "outputs": [
    {
     "name": "stdout",
     "output_type": "stream",
     "text": [
      "2->3->"
     ]
    }
   ],
   "source": [
    "s.traverse()"
   ]
  },
  {
   "cell_type": "code",
   "execution_count": 27,
   "id": "ff41571f",
   "metadata": {},
   "outputs": [
    {
     "name": "stdout",
     "output_type": "stream",
     "text": [
      "2->"
     ]
    }
   ],
   "source": [
    "deleteMiddleRec(s,size,0)\n",
    "s.traverse()"
   ]
  },
  {
   "cell_type": "markdown",
   "id": "e8261e41",
   "metadata": {},
   "source": [
    "Queue Data Structure"
   ]
  },
  {
   "cell_type": "markdown",
   "id": "ee5cb289",
   "metadata": {},
   "source": [
    "# Queue Data Structure -FIFO/LILO"
   ]
  },
  {
   "cell_type": "code",
   "execution_count": 9,
   "id": "760a6c9a",
   "metadata": {},
   "outputs": [],
   "source": [
    "class Queue:\n",
    "    def __init__(self,capacity):\n",
    "        self.arr = [None]*capacity\n",
    "        self.capacity = capacity\n",
    "        self.front = -1\n",
    "        self.rear = -1 #In the begging both front and rear shoould be -1\n",
    "        self.size = 0\n",
    "    def isEmpty(self):\n",
    "        return self.front == -1\n",
    "    def isFull(self):\n",
    "        return (self.front +1) % self.capacity == self.rear\n",
    "    def enQueue(self,data):\n",
    "        if self.isFull():\n",
    "            print(\"Queue Overflow\")\n",
    "            return\n",
    "        #Move the front to the right one position\n",
    "        #self.front = self.front + 1\n",
    "        self.front = (self.front + 1) % self.capacity#ensure index is correct it front at last index and again go to the first index 0 so use this condition\n",
    "        self.arr[self.front] = data\n",
    "        \n",
    "        if self.rear == -1: # when the first element is inserted\n",
    "            self.rear = 0\n",
    "        self.size+=1\n",
    "    def deQueue(self):\n",
    "        if self.isEmpty():\n",
    "            print(\"Queue Underflow\")\n",
    "            return\n",
    "        data = self.arr[self.rear]\n",
    "        #check if this was the only one element\n",
    "        #when one element is present set front and rear to -1\n",
    "        if self.rear == self.front:\n",
    "            self.rear = -1\n",
    "            self.front = -1\n",
    "            #Because it was the only elementy and after removal it's empty\n",
    "        else:\n",
    "            self.rear = (self.rear+1)%self.capacity # ensure we are in correcct index range \n",
    "        self.size -=1\n",
    "        return data \n",
    "    def length(self):\n",
    "        return self.size\n",
    "    def traverse(self):\n",
    "        for i in range(self.size):\n",
    "            print(self.arr[(self.rear+i)%self.capacity],end=\",\")"
   ]
  },
  {
   "cell_type": "code",
   "execution_count": 10,
   "id": "e8ef2d38",
   "metadata": {},
   "outputs": [],
   "source": [
    "q = Queue(5)"
   ]
  },
  {
   "cell_type": "code",
   "execution_count": 11,
   "id": "ef7015a6",
   "metadata": {},
   "outputs": [
    {
     "name": "stdout",
     "output_type": "stream",
     "text": [
      "True\n"
     ]
    }
   ],
   "source": [
    "print(q.isEmpty())"
   ]
  },
  {
   "cell_type": "code",
   "execution_count": 12,
   "id": "a9323de1",
   "metadata": {},
   "outputs": [
    {
     "name": "stdout",
     "output_type": "stream",
     "text": [
      "False\n"
     ]
    }
   ],
   "source": [
    "print(q.isFull())"
   ]
  },
  {
   "cell_type": "code",
   "execution_count": 13,
   "id": "4b5a30b6",
   "metadata": {},
   "outputs": [],
   "source": [
    "q.enQueue(4)\n",
    "q.enQueue(5)\n",
    "q.enQueue(3)\n",
    "q.enQueue(12)\n",
    "q.enQueue(33)"
   ]
  },
  {
   "cell_type": "code",
   "execution_count": 16,
   "id": "53235531",
   "metadata": {},
   "outputs": [],
   "source": [
    "q.enQueue(32)"
   ]
  },
  {
   "cell_type": "code",
   "execution_count": 15,
   "id": "a68f0033",
   "metadata": {},
   "outputs": [
    {
     "data": {
      "text/plain": [
       "4"
      ]
     },
     "execution_count": 15,
     "metadata": {},
     "output_type": "execute_result"
    }
   ],
   "source": [
    "q.deQueue()"
   ]
  },
  {
   "cell_type": "code",
   "execution_count": 17,
   "id": "b166c076",
   "metadata": {},
   "outputs": [
    {
     "name": "stdout",
     "output_type": "stream",
     "text": [
      "5,3,12,33,32,"
     ]
    }
   ],
   "source": [
    "q.traverse()"
   ]
  },
  {
   "cell_type": "code",
   "execution_count": 19,
   "id": "00bde2a7",
   "metadata": {
    "scrolled": true
   },
   "outputs": [
    {
     "data": {
      "text/plain": [
       "5"
      ]
     },
     "execution_count": 19,
     "metadata": {},
     "output_type": "execute_result"
    }
   ],
   "source": [
    "q.deQueue()"
   ]
  },
  {
   "cell_type": "code",
   "execution_count": 20,
   "id": "6279c327",
   "metadata": {},
   "outputs": [
    {
     "data": {
      "text/plain": [
       "3"
      ]
     },
     "execution_count": 20,
     "metadata": {},
     "output_type": "execute_result"
    }
   ],
   "source": [
    "q.deQueue()"
   ]
  },
  {
   "cell_type": "code",
   "execution_count": 21,
   "id": "4b90fd99",
   "metadata": {},
   "outputs": [],
   "source": [
    "q.enQueue(21)"
   ]
  },
  {
   "cell_type": "code",
   "execution_count": 22,
   "id": "4b00660c",
   "metadata": {},
   "outputs": [],
   "source": [
    "q.enQueue(33)"
   ]
  },
  {
   "cell_type": "code",
   "execution_count": 23,
   "id": "072ac4e2",
   "metadata": {},
   "outputs": [
    {
     "name": "stdout",
     "output_type": "stream",
     "text": [
      "Queue Overflow\n"
     ]
    }
   ],
   "source": [
    "q.enQueue(333)"
   ]
  },
  {
   "cell_type": "code",
   "execution_count": 18,
   "id": "cd38d6fc",
   "metadata": {},
   "outputs": [
    {
     "name": "stdout",
     "output_type": "stream",
     "text": [
      "Queue Overflow\n"
     ]
    }
   ],
   "source": [
    "q.enQueue(22)"
   ]
  },
  {
   "cell_type": "code",
   "execution_count": 60,
   "id": "5a45c854",
   "metadata": {},
   "outputs": [
    {
     "name": "stdout",
     "output_type": "stream",
     "text": [
      "4,5,3,"
     ]
    }
   ],
   "source": [
    "q.traverse()"
   ]
  },
  {
   "cell_type": "code",
   "execution_count": 61,
   "id": "a4a0d790",
   "metadata": {},
   "outputs": [
    {
     "name": "stdout",
     "output_type": "stream",
     "text": [
      "4\n"
     ]
    }
   ],
   "source": [
    "print(q.deQueue())"
   ]
  },
  {
   "cell_type": "code",
   "execution_count": 62,
   "id": "a7d5dead",
   "metadata": {},
   "outputs": [
    {
     "name": "stdout",
     "output_type": "stream",
     "text": [
      "5\n"
     ]
    }
   ],
   "source": [
    "print(q.deQueue())"
   ]
  },
  {
   "cell_type": "code",
   "execution_count": 63,
   "id": "80119c05",
   "metadata": {},
   "outputs": [],
   "source": [
    "class Node:\n",
    "    def __init__(self,data,next=None):\n",
    "        self.data = data\n",
    "        self.next = next\n",
    "    \n",
    "    def getData(self):\n",
    "        return self.data\n",
    "    def setData(self,data):\n",
    "        self.data = data\n",
    "    def setNext(self,next):\n",
    "        self.next = next\n",
    "    def getNext(self):\n",
    "        return self.next"
   ]
  },
  {
   "cell_type": "code",
   "execution_count": null,
   "id": "c819fb1a",
   "metadata": {},
   "outputs": [],
   "source": [
    "class QueueLL:\n",
    "    def __init__(self):\n",
    "        self.head = None\n",
    "        self.tail = None\n",
    "        self.size = 0\n",
    "        \n",
    "    def isEmpty(self):\n",
    "        return self.head == None #self.tail == None\n",
    "    #no need for isFull cause LL in dynamic\n",
    "    \n",
    "    def enQueue(self,data):\n",
    "        node = Node(data)\n",
    "        \n",
    "        if self.isEmpty():\n",
    "            self.head = node\n",
    "            self.tail = node\n",
    "        else:\n",
    "            self.tail.setNext(node)\n",
    "            self.tail = self.tail.getNext()\n",
    "        self.size +=1\n",
    "        \n",
    "    def deQueue(self):\n",
    "        if self.isEmpty():\n",
    "            print(\"Queue Underflow\")\n",
    "            return\n",
    "        data = self.head.getData()\n",
    "        \n",
    "        #check if it's the only element\n",
    "        if (self.head == self.tail):\n",
    "            self.head = None\n",
    "            self.tail = None #Because after dequeue ,Queue will be empty\n",
    "        else:\n",
    "            self.head = self.head.getNext()\n",
    "        self.size -=1\n",
    "        return data\n",
    "    def traverse(self):\n",
    "        temp = self.head\n",
    "        while(temp):\n",
    "            print(temp.getData(),end\"->\")\n",
    "            temp = temp.getNext()\n",
    "        print()\n",
    "        "
   ]
  },
  {
   "cell_type": "markdown",
   "id": "30035326",
   "metadata": {},
   "source": [
    "# 1.Revise Recursion\n",
    "2.Immplement Stack using queue\n",
    "3.Implement Queue using Stack"
   ]
  },
  {
   "cell_type": "code",
   "execution_count": 1,
   "id": "4de4b1a7",
   "metadata": {},
   "outputs": [
    {
     "data": {
      "text/plain": [
       "1"
      ]
     },
     "execution_count": 1,
     "metadata": {},
     "output_type": "execute_result"
    }
   ],
   "source": [
    "1%5"
   ]
  },
  {
   "cell_type": "code",
   "execution_count": null,
   "id": "9d25699f",
   "metadata": {},
   "outputs": [],
   "source": []
  }
 ],
 "metadata": {
  "kernelspec": {
   "display_name": "Python 3 (ipykernel)",
   "language": "python",
   "name": "python3"
  },
  "language_info": {
   "codemirror_mode": {
    "name": "ipython",
    "version": 3
   },
   "file_extension": ".py",
   "mimetype": "text/x-python",
   "name": "python",
   "nbconvert_exporter": "python",
   "pygments_lexer": "ipython3",
   "version": "3.11.5"
  }
 },
 "nbformat": 4,
 "nbformat_minor": 5
}
