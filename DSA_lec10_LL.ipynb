{
 "cells": [
  {
   "cell_type": "code",
   "execution_count": 2,
   "id": "58b7f40c",
   "metadata": {},
   "outputs": [],
   "source": [
    "class Node:\n",
    "    def __init__(self, data=None, next=None):\n",
    "        self.data = data\n",
    "        self.next = next\n",
    "        \n",
    "    # method to set the data value\n",
    "    def setData(self, data):\n",
    "        self.data = data\n",
    "    \n",
    "    # method to get the data value\n",
    "    def getData(self):\n",
    "        return self.data\n",
    "    \n",
    "    # method to set the next\n",
    "    def setNext(self, next):\n",
    "        self.next = next\n",
    "    \n",
    "    # method to get the next\n",
    "    def getNext(self):\n",
    "        return self.next\n",
    "        \n",
    "head = Node(1)\n",
    "node2 = Node(2)\n",
    "node3 = Node(3)\n",
    "node4 = Node(4)\n",
    "\n",
    "# creating the linkage\n",
    "head.setNext(node2)\n",
    "node2.setNext(node3)\n",
    "node3.setNext(node4)\n"
   ]
  },
  {
   "cell_type": "code",
   "execution_count": 4,
   "id": "fe4966b9",
   "metadata": {},
   "outputs": [
    {
     "data": {
      "text/plain": [
       "<__main__.Node at 0x25c8e5f5a50>"
      ]
     },
     "execution_count": 4,
     "metadata": {},
     "output_type": "execute_result"
    }
   ],
   "source": [
    "node2.getNext()"
   ]
  },
  {
   "cell_type": "code",
   "execution_count": 8,
   "id": "5e135940",
   "metadata": {},
   "outputs": [
    {
     "data": {
      "text/plain": [
       "10"
      ]
     },
     "execution_count": 8,
     "metadata": {},
     "output_type": "execute_result"
    }
   ],
   "source": [
    "node2.getData()"
   ]
  },
  {
   "cell_type": "code",
   "execution_count": 5,
   "id": "bfdd393a",
   "metadata": {},
   "outputs": [
    {
     "name": "stdout",
     "output_type": "stream",
     "text": [
      "1->2->3->4->"
     ]
    }
   ],
   "source": [
    "def traverse(head):\n",
    "    temp=head\n",
    "    while(temp):\n",
    "        print(temp.getData(),end=\"->\")\n",
    "        temp=temp.getNext() # jump to the next node\n",
    "traverse(head)"
   ]
  },
  {
   "cell_type": "code",
   "execution_count": 6,
   "id": "a94f3f1a",
   "metadata": {},
   "outputs": [],
   "source": [
    "node2.setData(10)"
   ]
  },
  {
   "cell_type": "code",
   "execution_count": 7,
   "id": "89b314dc",
   "metadata": {},
   "outputs": [
    {
     "name": "stdout",
     "output_type": "stream",
     "text": [
      "1->10->3->4->"
     ]
    }
   ],
   "source": [
    "def traverseRec(node):\n",
    "    if not node:\n",
    "        return\n",
    "    print(node.getData(),end=\"->\")\n",
    "    traverseRec(node.getNext())\n",
    "traverseRec(head)\n",
    "    "
   ]
  },
  {
   "cell_type": "code",
   "execution_count": 25,
   "id": "e14f7bcc",
   "metadata": {},
   "outputs": [
    {
     "data": {
      "text/plain": [
       "5"
      ]
     },
     "execution_count": 25,
     "metadata": {},
     "output_type": "execute_result"
    }
   ],
   "source": [
    "#find the number of nodes in the linklist\n",
    "def length(head):\n",
    "    temp=head\n",
    "    len=0\n",
    "    while(temp!=None):#while(temp)\n",
    "        len+=1\n",
    "        temp=temp.getNext()\n",
    "    return len\n",
    "length(head)"
   ]
  },
  {
   "cell_type": "code",
   "execution_count": 29,
   "id": "223f7ed5",
   "metadata": {},
   "outputs": [
    {
     "name": "stdout",
     "output_type": "stream",
     "text": [
      "4\n"
     ]
    }
   ],
   "source": [
    "def length_rec(head):\n",
    "    if not head:\n",
    "        return 0\n",
    "    return 1 + length_rec(head.getNext())\n",
    "print(length_rec(head))"
   ]
  },
  {
   "cell_type": "code",
   "execution_count": 41,
   "id": "b4eeead5",
   "metadata": {},
   "outputs": [
    {
     "name": "stdout",
     "output_type": "stream",
     "text": [
      "11->22->33->44->\n",
      "8->11->22->33->44->\n"
     ]
    }
   ],
   "source": [
    "def insertNode(head,data,k):\n",
    "    #if the k is valid\n",
    "    if (k > length(head) or k<0):\n",
    "        print(\"Arrgument k passed is not valid\")\n",
    "        return head\n",
    "    #create a new node for data \n",
    "    newNode = Node(data)#create the new node object\n",
    "    if(k==0):\n",
    "        #we need to insert at the beginning\n",
    "        #we need to update the head\n",
    "        newNode.setNext(head)\n",
    "        head=newNode\n",
    "    else:\n",
    "        #when not in begining\n",
    "        #we need to jump the prev node of the postion\n",
    "        prev=head\n",
    "        i=0\n",
    "        while(i<k-1):\n",
    "            prev = prev.getNext()\n",
    "            i+=1\n",
    "        #prev will be one position left of the kth position\n",
    "        newNode.setNext(prev.getNext())\n",
    "        prev.setNext(newNode)\n",
    "    return head\n",
    "\n",
    "head = Node(11)\n",
    "node2 = Node(22)\n",
    "node3 = Node(33)\n",
    "node4 = Node(44)\n",
    "\n",
    "# creating the linkage\n",
    "head.setNext(node2)\n",
    "node2.setNext(node3)\n",
    "node3.setNext(node4)\n",
    "\n",
    "traverse(head)\n",
    "print()\n",
    "\n",
    "head=insertNode(head,8,0)\n",
    "\n",
    "traverse(head)\n",
    "print()\n",
    "\n",
    "# head=insertNode(head,18,5)\n",
    "# traverse(head)\n",
    "# print()\n",
    "\n",
    "# head=insertNode(head,11,2)\n",
    "# traverse(head)\n",
    "# print()"
   ]
  },
  {
   "cell_type": "code",
   "execution_count": 45,
   "id": "369be387",
   "metadata": {},
   "outputs": [],
   "source": []
  },
  {
   "cell_type": "code",
   "execution_count": 46,
   "id": "09d71a11",
   "metadata": {},
   "outputs": [
    {
     "name": "stdout",
     "output_type": "stream",
     "text": [
      "1->8->11->22->33->44->\n"
     ]
    }
   ],
   "source": []
  },
  {
   "cell_type": "code",
   "execution_count": null,
   "id": "e95663e8",
   "metadata": {},
   "outputs": [],
   "source": []
  }
 ],
 "metadata": {
  "kernelspec": {
   "display_name": "Python 3 (ipykernel)",
   "language": "python",
   "name": "python3"
  },
  "language_info": {
   "codemirror_mode": {
    "name": "ipython",
    "version": 3
   },
   "file_extension": ".py",
   "mimetype": "text/x-python",
   "name": "python",
   "nbconvert_exporter": "python",
   "pygments_lexer": "ipython3",
   "version": "3.11.5"
  }
 },
 "nbformat": 4,
 "nbformat_minor": 5
}
