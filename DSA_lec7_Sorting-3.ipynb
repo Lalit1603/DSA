{
 "cells": [
  {
   "cell_type": "code",
   "execution_count": 2,
   "id": "e0b5d745",
   "metadata": {},
   "outputs": [
    {
     "data": {
      "text/plain": [
       "4"
      ]
     },
     "execution_count": 2,
     "metadata": {},
     "output_type": "execute_result"
    }
   ],
   "source": [
    "#linear search\n",
    "def search(arr,num):\n",
    "    for i in range(len(arr)):\n",
    "        if arr[i] == num:\n",
    "            return i\n",
    "    return -1\n",
    "search([1,2,3,4,5],5)"
   ]
  },
  {
   "cell_type": "code",
   "execution_count": 5,
   "id": "304bc210",
   "metadata": {},
   "outputs": [
    {
     "data": {
      "text/plain": [
       "3"
      ]
     },
     "execution_count": 5,
     "metadata": {},
     "output_type": "execute_result"
    }
   ],
   "source": [
    "#linear search using recursion\n",
    "def find_element(arr,start_index,data):\n",
    "    #Base condition\n",
    "    if start_index >=len(arr):\n",
    "        return -1\n",
    "    #Logic\n",
    "    if arr[start_index]==data:\n",
    "        return start_index\n",
    "    #Calling function again \n",
    "    else:\n",
    "        return find_element(arr,start_index+1,data)\n",
    "#Driver Code\n",
    "arr=[11,22,33,44,55]\n",
    "start_index=0\n",
    "data=44\n",
    "find_element(arr,start_index,data)\n",
    "    \n",
    "        "
   ]
  },
  {
   "cell_type": "code",
   "execution_count": 10,
   "id": "f9d91779",
   "metadata": {},
   "outputs": [
    {
     "data": {
      "text/plain": [
       "7"
      ]
     },
     "execution_count": 10,
     "metadata": {},
     "output_type": "execute_result"
    }
   ],
   "source": [
    "#binary search \n",
    "def binary_search(arr,num):\n",
    "    left=0\n",
    "    right=len(arr)-1\n",
    "    \n",
    "    while(left<=right):\n",
    "        mid=int(left+(right-left)/2)\n",
    "        if arr[mid] == num:\n",
    "            return mid\n",
    "        elif arr[mid]>num:\n",
    "            right=mid-1\n",
    "        else:\n",
    "            left=mid+1\n",
    "    return -1\n",
    "\n",
    "#driver code\n",
    "arr=[1,4,6,8,10,11,22,33,44,55]\n",
    "num=33\n",
    "binary_search(arr,num)"
   ]
  },
  {
   "cell_type": "code",
   "execution_count": 16,
   "id": "d20245d9",
   "metadata": {},
   "outputs": [
    {
     "name": "stdout",
     "output_type": "stream",
     "text": [
      "3\n"
     ]
    }
   ],
   "source": [
    "#binary search implements using recursion\n",
    "def binary_recursion(arr,left,right,data):\n",
    "    if left > right:\n",
    "        return -1\n",
    "    mid=int(left + (right-left)/2)\n",
    "    \n",
    "    if arr[mid] == data:\n",
    "        return mid\n",
    "    elif arr[mid] > data:\n",
    "        return binary_recursion(arr,left,mid-1,data)\n",
    "    else:\n",
    "        return binary_recursion(arr,mid+1,right,data)\n",
    "    \n",
    "print(binary_recursion([2,4,6,8,10],0,5,8))"
   ]
  },
  {
   "cell_type": "code",
   "execution_count": 17,
   "id": "cbad7539",
   "metadata": {},
   "outputs": [
    {
     "data": {
      "text/plain": [
       "0"
      ]
     },
     "execution_count": 17,
     "metadata": {},
     "output_type": "execute_result"
    }
   ],
   "source": [
    "int(0 + (1-0)/2)"
   ]
  },
  {
   "cell_type": "code",
   "execution_count": 24,
   "id": "33afc3ea",
   "metadata": {},
   "outputs": [
    {
     "name": "stdout",
     "output_type": "stream",
     "text": [
      "4 1 12 33 11 90 "
     ]
    }
   ],
   "source": [
    "def reverse_arr(arr):\n",
    "    for i in range(len(arr)-1,-1,-1):\n",
    "        print(arr[i],end=' ')\n",
    "reverse_arr([90,11,33,12,1,4])"
   ]
  },
  {
   "cell_type": "code",
   "execution_count": 29,
   "id": "3b25d2d8",
   "metadata": {},
   "outputs": [
    {
     "name": "stdout",
     "output_type": "stream",
     "text": [
      "[666, 555, 444, 333, 222, 111]\n"
     ]
    }
   ],
   "source": [
    "def reverse_array(arr):\n",
    "    i=0\n",
    "    j=len(arr)-1\n",
    "    \n",
    "    while(i<j):\n",
    "        #swap elements at i and j index\n",
    "        arr[i],arr[j] = arr[j],arr[i]\n",
    "        i+=1\n",
    "        j-=1\n",
    "arr=[111,222,333,444,555,666]\n",
    "reverse_array(arr)\n",
    "print(arr)\n"
   ]
  },
  {
   "cell_type": "code",
   "execution_count": 30,
   "id": "48031e6c",
   "metadata": {},
   "outputs": [
    {
     "name": "stdout",
     "output_type": "stream",
     "text": [
      "[55, 44, 33, 22, 11]\n"
     ]
    }
   ],
   "source": [
    "#using recursion\n",
    "def reverse_rec(arr,si,ei):\n",
    "    if si>=ei:\n",
    "        return\n",
    "    arr[si],arr[ei]=arr[ei],arr[si] #swapping values\n",
    "    reverse_rec(arr,si+1,ei-1)\n",
    "arr=[11,22,33,44,55]\n",
    "reverse_rec(arr,0,len(arr)-1)\n",
    "print(arr)\n"
   ]
  },
  {
   "cell_type": "code",
   "execution_count": 39,
   "id": "e24ff8b8",
   "metadata": {},
   "outputs": [
    {
     "data": {
      "text/plain": [
       "True"
      ]
     },
     "execution_count": 39,
     "metadata": {},
     "output_type": "execute_result"
    }
   ],
   "source": [
    "#create a function and tell the array is palindrome or not\n",
    "def palindrome_arr(arr):\n",
    "    \n",
    "    if len(arr)==1:\n",
    "        return True\n",
    "    \n",
    "    for i in range(len(arr)-1):\n",
    "        for j in range(len(arr)-1,-1,-1):\n",
    "            if arr[i]==arr[j]:\n",
    "                return True\n",
    "            \n",
    "            else:\n",
    "                return False\n",
    "palindrome_arr([1,2,3,3,2,1])\n",
    "            "
   ]
  },
  {
   "cell_type": "code",
   "execution_count": 45,
   "id": "6e9d9590",
   "metadata": {},
   "outputs": [
    {
     "data": {
      "text/plain": [
       "True"
      ]
     },
     "execution_count": 45,
     "metadata": {},
     "output_type": "execute_result"
    }
   ],
   "source": [
    "def isPalindrome(arr):\n",
    "    #2 pointer approach\n",
    "    left=0\n",
    "    right=len(arr)-1\n",
    "    \n",
    "    while(left<right):\n",
    "        if arr[left]!=arr[right]:\n",
    "            return False\n",
    "        left+=1\n",
    "        right-=1\n",
    "    return True\n",
    "isPalindrome([1,2,3,3,2,1])"
   ]
  },
  {
   "cell_type": "code",
   "execution_count": null,
   "id": "7cac7286",
   "metadata": {},
   "outputs": [],
   "source": [
    "#Question come many time in a amazon interview\n",
    "#Rotate array anticlockwise/left to right\n",
    "#[3,1,2,5,4] ==> [4,3,1,2,5] ==>[5,4,3,2,1] ==>[2,5,4,3,1]"
   ]
  },
  {
   "cell_type": "code",
   "execution_count": 47,
   "id": "14562d03",
   "metadata": {},
   "outputs": [
    {
     "name": "stdout",
     "output_type": "stream",
     "text": [
      "[5, 1, 2, 3, 4]\n",
      "[4, 5, 1, 2, 3]\n",
      "[3, 4, 5, 1, 2]\n"
     ]
    }
   ],
   "source": [
    "def rotate_arr(arr,k):\n",
    "    k=k%len(arr)\n",
    "    #Number of times the rotation has to take place\n",
    "    for i in range(k):\n",
    "        #Logic to rotatee the array\n",
    "        prev=arr[0]\n",
    "        current=arr[0]\n",
    "        arr[0] = arr[len(arr)-1]\n",
    "        \n",
    "        j=1\n",
    "        while(j<len(arr)):\n",
    "            current=arr[j]\n",
    "            arr[j]=prev\n",
    "            prev=current\n",
    "            j+=1\n",
    "arr1=[1,2,3,4,5]\n",
    "arr2=[1,2,3,4,5]\n",
    "arr3=[1,2,3,4,5]\n",
    "\n",
    "rotate_arr(arr1,1)\n",
    "print(arr1)\n",
    "rotate_arr(arr2,2)\n",
    "print(arr2)\n",
    "rotate_arr(arr3,3)\n",
    "print(arr3)\n",
    "        "
   ]
  },
  {
   "cell_type": "code",
   "execution_count": 51,
   "id": "acb392ff",
   "metadata": {},
   "outputs": [
    {
     "name": "stdout",
     "output_type": "stream",
     "text": [
      "[4, 5, 1, 2, 3]\n"
     ]
    }
   ],
   "source": [
    "#rotate the array k times\n",
    "def reverse_rec(arr,si,ei):\n",
    "    if si>=ei:\n",
    "        return\n",
    "    arr[si],arr[ei]=arr[ei],arr[si]#swapping\n",
    "    reverse_rec(arr,si+1,ei-1)\n",
    "    \n",
    "def rotate_k_times(arr,k):\n",
    "    k=k%len(arr)\n",
    "    \n",
    "    #reverse the entire array\n",
    "    reverse_rec(arr,0,len(arr)-1)\n",
    "    #reverse the first n-k elements\n",
    "    reverse_rec(arr,0,k-1)\n",
    "    #reverse the last n-k elements\n",
    "    reverse_rec(arr,k,len(arr)-1)\n",
    "arr=[1,2,3,4,5]\n",
    "rotate_k_times(arr,2)\n",
    "print(arr)"
   ]
  },
  {
   "cell_type": "code",
   "execution_count": null,
   "id": "4a7d382f",
   "metadata": {},
   "outputs": [],
   "source": []
  }
 ],
 "metadata": {
  "kernelspec": {
   "display_name": "Python 3 (ipykernel)",
   "language": "python",
   "name": "python3"
  },
  "language_info": {
   "codemirror_mode": {
    "name": "ipython",
    "version": 3
   },
   "file_extension": ".py",
   "mimetype": "text/x-python",
   "name": "python",
   "nbconvert_exporter": "python",
   "pygments_lexer": "ipython3",
   "version": "3.11.5"
  }
 },
 "nbformat": 4,
 "nbformat_minor": 5
}
