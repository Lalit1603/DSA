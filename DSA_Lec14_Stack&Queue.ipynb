{
 "cells": [
  {
   "cell_type": "code",
   "execution_count": 4,
   "id": "f77a0d65",
   "metadata": {},
   "outputs": [],
   "source": [
    "class Node:\n",
    "    def __init__(self,data,next=None):\n",
    "        self.data = data\n",
    "        self.next = next\n",
    "    \n",
    "    def getData(self):\n",
    "        return self.data\n",
    "    def setData(self,data):\n",
    "        self.data = data\n",
    "    def setNext(self,next):\n",
    "        self.next = next\n",
    "    def getNext(self):\n",
    "        return self.next"
   ]
  },
  {
   "cell_type": "code",
   "execution_count": 5,
   "id": "33332854",
   "metadata": {},
   "outputs": [],
   "source": [
    "class QueueLL:\n",
    "    def __init__(self):\n",
    "        self.head = None\n",
    "        self.tail = None\n",
    "        self.size = 0\n",
    "        \n",
    "    def isEmpty(self):\n",
    "        return self.head == None #self.tail == None\n",
    "    #no need for isFull cause LL in dynamic\n",
    "    \n",
    "    def enQueue(self,data):\n",
    "        node = Node(data)\n",
    "        \n",
    "        if self.isEmpty():\n",
    "            self.head = node\n",
    "            self.tail = node\n",
    "        else:\n",
    "            self.tail.setNext(node)\n",
    "            self.tail = self.tail.getNext()\n",
    "        self.size +=1\n",
    "        \n",
    "    def deQueue(self):\n",
    "        if self.isEmpty():\n",
    "            print(\"Queue Underflow\")\n",
    "            return\n",
    "        data = self.head.getData()\n",
    "        \n",
    "        #check if it's the only element\n",
    "        if (self.head == self.tail):\n",
    "            self.head = None\n",
    "            self.tail = None #Because after dequeue ,Queue will be empty\n",
    "        else:\n",
    "            self.head = self.head.getNext()\n",
    "        self.size -=1\n",
    "        return data\n",
    "    def traverse(self):\n",
    "        temp = self.head\n",
    "        while(temp):\n",
    "            print(temp.getData(),end=\"->\")\n",
    "            temp = temp.getNext()\n",
    "        print()"
   ]
  },
  {
   "cell_type": "code",
   "execution_count": 12,
   "id": "e5d52f1f",
   "metadata": {},
   "outputs": [],
   "source": [
    "#implements stack using Queue\n",
    "class stackQ:\n",
    "    def __init__(self):\n",
    "        self.q1 = QueueLL() # this is a main Queue\n",
    "        self.q2 = QueueLL() # this is a helper Queue\n",
    "    def isEmpty(self):\n",
    "        return self.q1.isEmpty()\n",
    "    def push(self,data):\n",
    "        self.q1.enQueue(data)\n",
    "        \n",
    "    def pop(self):\n",
    "        if self.isEmpty():\n",
    "            print(\"Stack Underflow\")\n",
    "\n",
    "        #we need to pick the last element added\n",
    "        data = None\n",
    "        while not self.q1.isEmpty():\n",
    "            data = self.q1.deQueue()\n",
    "            if(not self.q1.isEmpty()):\n",
    "                self.q2.enQueue(data)\n",
    "        self.q1, self.q2 = self.q2, self.q1\n",
    "        return data\n",
    "    \n",
    "    def traverse(self):\n",
    "        self.q1.traverse()\n",
    "    "
   ]
  },
  {
   "cell_type": "code",
   "execution_count": 13,
   "id": "8e843f1b",
   "metadata": {},
   "outputs": [],
   "source": [
    "s = stackQ()"
   ]
  },
  {
   "cell_type": "code",
   "execution_count": 14,
   "id": "d1235578",
   "metadata": {},
   "outputs": [
    {
     "name": "stdout",
     "output_type": "stream",
     "text": [
      "True\n"
     ]
    }
   ],
   "source": [
    "print(s.isEmpty())"
   ]
  },
  {
   "cell_type": "code",
   "execution_count": 15,
   "id": "716f2ad6",
   "metadata": {},
   "outputs": [],
   "source": [
    "s.push(5)\n",
    "s.push(9)\n",
    "s.push(3)\n",
    "s.push(2)"
   ]
  },
  {
   "cell_type": "code",
   "execution_count": 16,
   "id": "71841248",
   "metadata": {},
   "outputs": [
    {
     "name": "stdout",
     "output_type": "stream",
     "text": [
      "5->9->3->2->\n"
     ]
    }
   ],
   "source": [
    "s.traverse()"
   ]
  },
  {
   "cell_type": "code",
   "execution_count": 17,
   "id": "f72de0b6",
   "metadata": {},
   "outputs": [
    {
     "name": "stdout",
     "output_type": "stream",
     "text": [
      "2\n"
     ]
    }
   ],
   "source": [
    "print(s.pop())"
   ]
  },
  {
   "cell_type": "code",
   "execution_count": 31,
   "id": "b5e89daa",
   "metadata": {},
   "outputs": [
    {
     "name": "stdout",
     "output_type": "stream",
     "text": [
      "3\n"
     ]
    }
   ],
   "source": [
    "print(s.pop())"
   ]
  },
  {
   "cell_type": "code",
   "execution_count": 32,
   "id": "68ce1cf8",
   "metadata": {},
   "outputs": [
    {
     "name": "stdout",
     "output_type": "stream",
     "text": [
      "9\n"
     ]
    }
   ],
   "source": [
    "print(s.pop())"
   ]
  },
  {
   "cell_type": "code",
   "execution_count": 19,
   "id": "200e257b",
   "metadata": {},
   "outputs": [],
   "source": [
    "#Implement Queue using stack\n",
    "class StackLL:\n",
    "    def __init__(self):\n",
    "        self.head = None # in the beginiing stack is empty so head is none\n",
    "    def isEmpty(self):\n",
    "        return self.head == None # begining head is none\n",
    "    def isFull(self):pass#this is for dynamic sizing no need of these methood\n",
    "    \n",
    "    def push(self,data):\n",
    "        node = Node(data)\n",
    "        node.setNext(self.head)\n",
    "        self.head = node \n",
    "    def pop(self):\n",
    "        if(self.isEmpty()):\n",
    "            print(\"Stack UnderFlow\")\n",
    "            return\n",
    "        data = self.head.getData()\n",
    "        self.head = self.head.getNext()\n",
    "        return data \n",
    "    def peek(self):\n",
    "        if(self.isEmpty()):\n",
    "            print(\"Stack UnderFlow\")\n",
    "            return\n",
    "        data = self.head.getData() #No changes in the head\n",
    "        return data \n",
    "    \n",
    "    def size(self):#find the current size of stack\n",
    "        size = 0\n",
    "        temp = self.head\n",
    "        while(temp):#while(prev.getNext()!=None):\n",
    "            size+=1\n",
    "            temp = temp.getNext()\n",
    "        return size\n",
    "    \n",
    "    def traverse(self):#Traverse the elements of the stack\n",
    "        temp = self.head\n",
    "        while(temp):\n",
    "            print(temp.getData(), end=\"->\")\n",
    "            temp = temp.getNext()"
   ]
  },
  {
   "cell_type": "code",
   "execution_count": 22,
   "id": "4ff7c4e5",
   "metadata": {},
   "outputs": [],
   "source": [
    "class QueueS:\n",
    "    def __init__(self):\n",
    "        self.s1 = StackLL()\n",
    "        self.s2 = StackLL()\n",
    "    \n",
    "    def isEmpty(self):\n",
    "        return self.s1.isEmpty()\n",
    "        \n",
    "    def enQue(self,data):\n",
    "        self.s1.push(data)\n",
    "    \n",
    "    def deQue(self):\n",
    "        if(self.s1.isEmpty()):\n",
    "            print(\"Queue Underflow exception\")\n",
    "            return\n",
    "        data = None\n",
    "        while not self.s1.isEmpty():\n",
    "            data = self.s1.pop()\n",
    "            if(not self.s1.isEmpty()):\n",
    "                self.s2.push(data)\n",
    "        self.s1,self.s2 = self.s2,self.s1\n",
    "        return data\n",
    "    \n",
    "    def traverse(self):\n",
    "        self.s1.traverse()\n",
    "        \n",
    "                "
   ]
  },
  {
   "cell_type": "code",
   "execution_count": 23,
   "id": "719fa5f0",
   "metadata": {},
   "outputs": [],
   "source": [
    "q = QueueS()"
   ]
  },
  {
   "cell_type": "code",
   "execution_count": 24,
   "id": "e0bcccc5",
   "metadata": {},
   "outputs": [],
   "source": [
    "q.enQue(8)\n",
    "q.enQue(16)\n",
    "q.enQue(24)\n",
    "q.enQue(32)"
   ]
  },
  {
   "cell_type": "code",
   "execution_count": 26,
   "id": "0cb9442e",
   "metadata": {},
   "outputs": [
    {
     "name": "stdout",
     "output_type": "stream",
     "text": [
      "32->24->16->8->"
     ]
    }
   ],
   "source": [
    "q.traverse()"
   ]
  },
  {
   "cell_type": "code",
   "execution_count": 27,
   "id": "60dd5ed7",
   "metadata": {},
   "outputs": [
    {
     "data": {
      "text/plain": [
       "8"
      ]
     },
     "execution_count": 27,
     "metadata": {},
     "output_type": "execute_result"
    }
   ],
   "source": [
    "q.deQue()"
   ]
  },
  {
   "cell_type": "code",
   "execution_count": 28,
   "id": "12b14f90",
   "metadata": {},
   "outputs": [
    {
     "name": "stdout",
     "output_type": "stream",
     "text": [
      "16->24->32->"
     ]
    }
   ],
   "source": [
    "q.traverse()"
   ]
  },
  {
   "cell_type": "code",
   "execution_count": 29,
   "id": "4f983418",
   "metadata": {},
   "outputs": [
    {
     "data": {
      "text/plain": [
       "32"
      ]
     },
     "execution_count": 29,
     "metadata": {},
     "output_type": "execute_result"
    }
   ],
   "source": [
    "q.deQue()"
   ]
  },
  {
   "cell_type": "code",
   "execution_count": null,
   "id": "493716bd",
   "metadata": {},
   "outputs": [],
   "source": []
  }
 ],
 "metadata": {
  "kernelspec": {
   "display_name": "Python 3 (ipykernel)",
   "language": "python",
   "name": "python3"
  },
  "language_info": {
   "codemirror_mode": {
    "name": "ipython",
    "version": 3
   },
   "file_extension": ".py",
   "mimetype": "text/x-python",
   "name": "python",
   "nbconvert_exporter": "python",
   "pygments_lexer": "ipython3",
   "version": "3.11.5"
  }
 },
 "nbformat": 4,
 "nbformat_minor": 5
}
