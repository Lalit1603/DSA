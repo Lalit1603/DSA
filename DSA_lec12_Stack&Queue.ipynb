{
 "cells": [
  {
   "cell_type": "code",
   "execution_count": 1,
   "id": "e0b5d745",
   "metadata": {},
   "outputs": [],
   "source": [
    "#Stack:-1.Using array/list 2.Linked List"
   ]
  },
  {
   "cell_type": "code",
   "execution_count": 65,
   "id": "ddecfd52",
   "metadata": {},
   "outputs": [],
   "source": [
    "class Stack:\n",
    "    def __init__(self,capacity):#Size of the array:=Capacity\n",
    "        self.top = -1 #in the begining the stack will be empty\n",
    "        self.arr = [None]*capacity#stack = Stack(5):-it returns [None,None,None,None,None] size of five\n",
    "        self.capacity = capacity\n",
    "        \n",
    "    def isEmpty(self):\n",
    "        return self.top == -1\n",
    "    def isFull(self):\n",
    "        return self.top == self.capacity - 1\n",
    "    \n",
    "    def push(self,data):\n",
    "        #check if it's full\n",
    "        if self.isFull():\n",
    "            print(\"Stack Overflow\")\n",
    "            return\n",
    "        self.top +=1\n",
    "        self.arr[self.top] = data \n",
    "    \n",
    "    def pop(self):\n",
    "        #check if it is empty\n",
    "        if self.isEmpty():\n",
    "            print(\"Stack Underflow\")\n",
    "            return\n",
    "        data = self.arr[self.top]\n",
    "        self.arr[self.top] = None\n",
    "        self.top -= 1\n",
    "        return data\n",
    "    \n",
    "    def traverse(self):\n",
    "        for i in range(self.top+1):\n",
    "            print(self.arr[i], end=\", \")\n",
    "    \n",
    "    def peek(self):\n",
    "        #check if it's empty\n",
    "        if self.isEmpty():\n",
    "            print(\"Stack Underflow\")\n",
    "            return\n",
    "        data = self.arr[self.top]\n",
    "        return data #not decrementing the topp value\n",
    "    \n",
    "            \n",
    "        "
   ]
  },
  {
   "cell_type": "code",
   "execution_count": 66,
   "id": "7dfae0a0",
   "metadata": {},
   "outputs": [],
   "source": [
    "stack = Stack(5)"
   ]
  },
  {
   "cell_type": "code",
   "execution_count": 67,
   "id": "92c9de9a",
   "metadata": {},
   "outputs": [],
   "source": [
    "stack.push(11)\n",
    "stack.push(22)\n",
    "stack.push(33)\n",
    "stack.push(44)\n",
    "stack.push(55)"
   ]
  },
  {
   "cell_type": "code",
   "execution_count": 68,
   "id": "bbe0c636",
   "metadata": {},
   "outputs": [
    {
     "data": {
      "text/plain": [
       "55"
      ]
     },
     "execution_count": 68,
     "metadata": {},
     "output_type": "execute_result"
    }
   ],
   "source": [
    "stack.pop()"
   ]
  },
  {
   "cell_type": "code",
   "execution_count": 69,
   "id": "50b16c45",
   "metadata": {},
   "outputs": [
    {
     "name": "stdout",
     "output_type": "stream",
     "text": [
      "11, 22, 33, 44, "
     ]
    }
   ],
   "source": [
    "stack.traverse()"
   ]
  },
  {
   "cell_type": "code",
   "execution_count": 70,
   "id": "cfc0c523",
   "metadata": {},
   "outputs": [
    {
     "data": {
      "text/plain": [
       "44"
      ]
     },
     "execution_count": 70,
     "metadata": {},
     "output_type": "execute_result"
    }
   ],
   "source": [
    "stack.pop()"
   ]
  },
  {
   "cell_type": "code",
   "execution_count": 71,
   "id": "694b532e",
   "metadata": {},
   "outputs": [
    {
     "name": "stdout",
     "output_type": "stream",
     "text": [
      "11, 22, 33, "
     ]
    }
   ],
   "source": [
    "stack.traverse()"
   ]
  },
  {
   "cell_type": "code",
   "execution_count": 81,
   "id": "7b2ae9c2",
   "metadata": {},
   "outputs": [],
   "source": [
    "#Stack Using Link List\n",
    "class Node:\n",
    "    def __init__(self,data,next=None):\n",
    "        self.data = data\n",
    "        self.next = next\n",
    "    \n",
    "    def getData(self):\n",
    "        return self.data\n",
    "    def setData(self,data):\n",
    "        self.data = data\n",
    "    def setNext(self,next):\n",
    "        self.next = next\n",
    "    def getNext(self):\n",
    "        return self.next\n",
    "    "
   ]
  },
  {
   "cell_type": "code",
   "execution_count": 86,
   "id": "a0e96d34",
   "metadata": {},
   "outputs": [],
   "source": [
    "class StackLL:\n",
    "    def __init__(self):\n",
    "        self.head = None # in the beginiing stack is empty so head is none\n",
    "    def isEmpty(self):\n",
    "        return self.head == None # begining head is none\n",
    "    def isFull(self):pass#this is for dynamic sizing no need of these methood\n",
    "    \n",
    "    def push(self,data):\n",
    "        node = Node(data)\n",
    "        node.setNext(self.head)\n",
    "        self.head = node \n",
    "    def pop(self):\n",
    "        if(self.isEmpty()):\n",
    "            print(\"Stack UnderFlow\")\n",
    "            return\n",
    "        data = self.head.getData()\n",
    "        self.head = self.head.getNext()\n",
    "        return data \n",
    "    def peek(self):\n",
    "        if(self.isEmpty()):\n",
    "            print(\"Stack UnderFlow\")\n",
    "            return\n",
    "        data = self.head.getData() #No changes in the head\n",
    "        return data \n",
    "    \n",
    "    def size(self):#find the current size of stack\n",
    "        size = 0\n",
    "        temp = self.head\n",
    "        while(temp):#while(prev.getNext()!=None):\n",
    "            size+=1\n",
    "            temp = temp.getNext()\n",
    "        return size\n",
    "    \n",
    "    def traverse(self):#Traverse the elements of the stack\n",
    "        temp = self.head\n",
    "        while(temp):\n",
    "            print(temp.getData(), end=\"->\")\n",
    "            temp = temp.getNext()\n",
    "            "
   ]
  },
  {
   "cell_type": "code",
   "execution_count": 87,
   "id": "693ca3dd",
   "metadata": {},
   "outputs": [],
   "source": [
    "stack = StackLL()\n",
    "\n",
    "stack.push(7)\n",
    "stack.push(8)\n",
    "stack.push(10)"
   ]
  },
  {
   "cell_type": "code",
   "execution_count": 88,
   "id": "f52bb433",
   "metadata": {},
   "outputs": [
    {
     "name": "stdout",
     "output_type": "stream",
     "text": [
      "10->8->7->"
     ]
    }
   ],
   "source": [
    "stack.traverse()"
   ]
  },
  {
   "cell_type": "code",
   "execution_count": 89,
   "id": "85458469",
   "metadata": {},
   "outputs": [
    {
     "data": {
      "text/plain": [
       "10"
      ]
     },
     "execution_count": 89,
     "metadata": {},
     "output_type": "execute_result"
    }
   ],
   "source": [
    "stack.pop()"
   ]
  },
  {
   "cell_type": "code",
   "execution_count": 90,
   "id": "cf808b9b",
   "metadata": {},
   "outputs": [
    {
     "name": "stdout",
     "output_type": "stream",
     "text": [
      "8->7->"
     ]
    }
   ],
   "source": [
    "stack.traverse()"
   ]
  },
  {
   "cell_type": "code",
   "execution_count": 104,
   "id": "b9084c08",
   "metadata": {},
   "outputs": [],
   "source": [
    "#Balanced Pranthesis problem\n",
    "def areBracketBalanced(exp):\n",
    "    \n",
    "    #define a stack object\n",
    "    stack = StackLL()\n",
    "    \n",
    "    #iterate through each bracket in the givven exp\n",
    "    for c in exp:\n",
    "        if c in ['(','{','[']:\n",
    "            stack.push(c)\n",
    "        else:\n",
    "            if stack.isEmpty():\n",
    "                return False\n",
    "            char = stack.pop()\n",
    "            if char == \"(\" and c != \")\":\n",
    "                return False\n",
    "            elif char == \"{\" and c != \"}\":\n",
    "                return False\n",
    "            elif char == \"[\" and c != \"]\":\n",
    "                return False \n",
    "    return stack.isEmpty()\n"
   ]
  },
  {
   "cell_type": "code",
   "execution_count": 105,
   "id": "c345c103",
   "metadata": {},
   "outputs": [
    {
     "name": "stdout",
     "output_type": "stream",
     "text": [
      "True\n"
     ]
    }
   ],
   "source": [
    "print(areBracketBalanced(\"{[]}\"))"
   ]
  },
  {
   "cell_type": "code",
   "execution_count": 106,
   "id": "1927baa0",
   "metadata": {},
   "outputs": [
    {
     "name": "stdout",
     "output_type": "stream",
     "text": [
      "False\n"
     ]
    }
   ],
   "source": [
    "print(areBracketBalanced(\"{[{{]}}]}\"))"
   ]
  },
  {
   "cell_type": "code",
   "execution_count": null,
   "id": "bac5477e",
   "metadata": {},
   "outputs": [],
   "source": [
    "#Assignmet:-Delete the middle element of the stack and you are allowed to use only the push and pop methods of the stack\n",
    "#you cant manipulate the internal data structure to store a data"
   ]
  }
 ],
 "metadata": {
  "kernelspec": {
   "display_name": "Python 3 (ipykernel)",
   "language": "python",
   "name": "python3"
  },
  "language_info": {
   "codemirror_mode": {
    "name": "ipython",
    "version": 3
   },
   "file_extension": ".py",
   "mimetype": "text/x-python",
   "name": "python",
   "nbconvert_exporter": "python",
   "pygments_lexer": "ipython3",
   "version": "3.11.5"
  }
 },
 "nbformat": 4,
 "nbformat_minor": 5
}
