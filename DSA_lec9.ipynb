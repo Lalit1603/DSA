{
 "cells": [
  {
   "cell_type": "code",
   "execution_count": 2,
   "id": "08228cbd",
   "metadata": {},
   "outputs": [],
   "source": [
    "s1=\"Python\""
   ]
  },
  {
   "cell_type": "code",
   "execution_count": 3,
   "id": "60401db2",
   "metadata": {},
   "outputs": [
    {
     "ename": "IndexError",
     "evalue": "string index out of range",
     "output_type": "error",
     "traceback": [
      "\u001b[1;31m---------------------------------------------------------------------------\u001b[0m",
      "\u001b[1;31mIndexError\u001b[0m                                Traceback (most recent call last)",
      "Input \u001b[1;32mIn [3]\u001b[0m, in \u001b[0;36m<cell line: 1>\u001b[1;34m()\u001b[0m\n\u001b[1;32m----> 1\u001b[0m \u001b[38;5;28mprint\u001b[39m(\u001b[43ms1\u001b[49m\u001b[43m[\u001b[49m\u001b[38;5;241;43m6\u001b[39;49m\u001b[43m]\u001b[49m)\n",
      "\u001b[1;31mIndexError\u001b[0m: string index out of range"
     ]
    }
   ],
   "source": [
    "print(s1[6])"
   ]
  },
  {
   "cell_type": "code",
   "execution_count": 4,
   "id": "491966d6",
   "metadata": {},
   "outputs": [
    {
     "name": "stdout",
     "output_type": "stream",
     "text": [
      "noht\n"
     ]
    }
   ],
   "source": [
    "print(s1[-1:1:-1])"
   ]
  },
  {
   "cell_type": "code",
   "execution_count": 5,
   "id": "a725a770",
   "metadata": {},
   "outputs": [
    {
     "name": "stdout",
     "output_type": "stream",
     "text": [
      "oh\n"
     ]
    }
   ],
   "source": [
    "print(s1[-2:2:-1])"
   ]
  },
  {
   "cell_type": "code",
   "execution_count": 7,
   "id": "a73e4f75",
   "metadata": {},
   "outputs": [
    {
     "name": "stdout",
     "output_type": "stream",
     "text": [
      "['H', 'e', 'l', 'l', 'o', ' ', 'S', 't', 'u', 'd', 'e', 'n', 't', 's']\n",
      "['H', 'e', 'l', 'l', 'o', ' ', 'S', 't', 'u', 'd', 'e', 'n', 't', 's']\n"
     ]
    }
   ],
   "source": [
    "str1=\"Hello Students\"\n",
    "str_arr=[char for char in str1]\n",
    "print(str_arr)\n",
    "\n",
    "str_list=list(str1)\n",
    "print(str_list)"
   ]
  },
  {
   "cell_type": "code",
   "execution_count": 10,
   "id": "64c0ffa4",
   "metadata": {},
   "outputs": [
    {
     "name": "stdout",
     "output_type": "stream",
     "text": [
      "Hello Students <class 'str'>\n"
     ]
    }
   ],
   "source": [
    "#convert the list_of_char to string\n",
    "\n",
    "str2=\"\".join(str_list)\n",
    "print(str2,type(str2))"
   ]
  },
  {
   "cell_type": "code",
   "execution_count": 14,
   "id": "7c24c946",
   "metadata": {},
   "outputs": [
    {
     "name": "stdout",
     "output_type": "stream",
     "text": [
      "ABC\n",
      "ACB\n",
      "BAC\n",
      "BCA\n",
      "CBA\n",
      "CAB\n"
     ]
    }
   ],
   "source": [
    "def permute(char_arr,left,right):\n",
    "    #Base condition\n",
    "    if left == right:\n",
    "        print(\"\".join(char_arr))\n",
    "        return\n",
    "    else:\n",
    "        for i in range(left,right+1):#takes care of each charachter one after another\n",
    "            char_arr[left],char_arr[i] = char_arr[i],char_arr[left]\n",
    "            permute(char_arr,left+1,right)\n",
    "            char_arr[left],char_arr[i] = char_arr[i],char_arr[left] #Go to the previous stage Backtraking\n",
    "permute(list(\"ABC\"),0,2)\n",
    "            \n",
    "            "
   ]
  },
  {
   "cell_type": "raw",
   "id": "e7e5eb2b",
   "metadata": {},
   "source": [
    "Sort an array containing two types of elements we are given an array of 0s ans 1s in random order.Segregate 0s n left side and 1s\n",
    "on right side of the array. Traverse array only once.Example Input : arr=[0,1,0,1,0,0,1,0,1,1,1,0]\n",
    "Output:[0,0,0,0,0,1,1,1,1,1]\n"
   ]
  },
  {
   "cell_type": "code",
   "execution_count": null,
   "id": "6497e744",
   "metadata": {},
   "outputs": [],
   "source": [
    "#1.Bubble Sort:-TC(o*2)\n",
    "#2.Pointer approach:-\n",
    "#3.Count of zeros and count of ones- first print(zeros) and after that print(ones)"
   ]
  },
  {
   "cell_type": "code",
   "execution_count": 2,
   "id": "7a18fa34",
   "metadata": {},
   "outputs": [
    {
     "name": "stdout",
     "output_type": "stream",
     "text": [
      "[0, 0, 0, 0, 0, 1, 1, 1, 1, 1]\n"
     ]
    }
   ],
   "source": [
    "def sort_zeros_and_ones(arr):\n",
    "    left_pointer=0\n",
    "    right_pointer=len(arr)-1\n",
    "    \n",
    "    while left_pointer < right_pointer:\n",
    "        #Move left pointer to the right untill a 1 is incountered\n",
    "        while arr[left_pointer]==0 and left_pointer < right_pointer:\n",
    "            left_pointer +=1\n",
    "        \n",
    "        #Move right pointer to the left until a 0 is encountered\n",
    "        while arr[right_pointer] == 1 and left_pointer < right_pointer:\n",
    "            right_pointer -=1\n",
    "            \n",
    "        \n",
    "        #Swap the elements at left and right pointers\n",
    "        if left_pointer < right_pointer:\n",
    "            arr[left_pointer],arr[right_pointer] = arr[right_pointer],arr[left_pointer]\n",
    "            left_pointer+=1\n",
    "            right_pointer-=1\n",
    "            \n",
    "arr=[0,1,0,1,0,0,1,1,1,0]\n",
    "sort_zeros_and_ones(arr)\n",
    "print(arr)"
   ]
  },
  {
   "cell_type": "code",
   "execution_count": 5,
   "id": "9fa68a31",
   "metadata": {},
   "outputs": [
    {
     "name": "stdout",
     "output_type": "stream",
     "text": [
      "5\n"
     ]
    }
   ],
   "source": [
    "def binary_count_rotation(arr):\n",
    "    start=0\n",
    "    n=len(arr)\n",
    "    end = n-1\n",
    "    \n",
    "    while(start<=end):\n",
    "        \n",
    "        mid = int(start + (end - start)/2)\n",
    "        \n",
    "        prev = (mid-1+n)%n #insure the prev index is always correct\n",
    "        next = (mid+1)%n #ensure the next index is always in range\n",
    "        \n",
    "        if arr[mid] < arr[prev] and arr[mid] < arr[next]:\n",
    "            return mid\n",
    "        elif arr[mid] < arr[start]:\n",
    "            end=mid-1\n",
    "        else:\n",
    "            start = mid+1\n",
    "print(binary_count_rotation([3,6,12,15,18,2]))\n",
    "        "
   ]
  },
  {
   "cell_type": "code",
   "execution_count": null,
   "id": "a5091ffe",
   "metadata": {},
   "outputs": [],
   "source": []
  }
 ],
 "metadata": {
  "kernelspec": {
   "display_name": "Python 3 (ipykernel)",
   "language": "python",
   "name": "python3"
  },
  "language_info": {
   "codemirror_mode": {
    "name": "ipython",
    "version": 3
   },
   "file_extension": ".py",
   "mimetype": "text/x-python",
   "name": "python",
   "nbconvert_exporter": "python",
   "pygments_lexer": "ipython3",
   "version": "3.11.5"
  }
 },
 "nbformat": 4,
 "nbformat_minor": 5
}
