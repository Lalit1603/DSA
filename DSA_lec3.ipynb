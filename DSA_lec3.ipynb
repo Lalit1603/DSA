{
 "cells": [
  {
   "cell_type": "code",
   "execution_count": 9,
   "id": "c01891f1",
   "metadata": {},
   "outputs": [
    {
     "name": "stdout",
     "output_type": "stream",
     "text": [
      "Enter a Any Number to Calculate a Factorial of it:-5\n",
      "120\n"
     ]
    }
   ],
   "source": [
    "#Ex.1:Fact of a given Number\n",
    "def fact(n):\n",
    "    #Base case condition\n",
    "    if n==1:\n",
    "        return 1\n",
    "    else:\n",
    "        #recursive function call\n",
    "        return n*fact(n-1)\n",
    "n=int(input(\"Enter a Any Number to Calculate a Factorial of it:-\"))\n",
    "result=fact(n)\n",
    "print(result)"
   ]
  },
  {
   "cell_type": "code",
   "execution_count": null,
   "id": "d7a92fbe",
   "metadata": {},
   "outputs": [],
   "source": [
    "def fib(n):\n",
    "    if n<=1:\n",
    "        return 1\n",
    "    "
   ]
  }
 ],
 "metadata": {
  "kernelspec": {
   "display_name": "Python 3 (ipykernel)",
   "language": "python",
   "name": "python3"
  },
  "language_info": {
   "codemirror_mode": {
    "name": "ipython",
    "version": 3
   },
   "file_extension": ".py",
   "mimetype": "text/x-python",
   "name": "python",
   "nbconvert_exporter": "python",
   "pygments_lexer": "ipython3",
   "version": "3.11.5"
  }
 },
 "nbformat": 4,
 "nbformat_minor": 5
}
