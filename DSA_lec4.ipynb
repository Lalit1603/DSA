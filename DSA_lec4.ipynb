{
 "cells": [
  {
   "cell_type": "code",
   "execution_count": 6,
   "id": "e0b5d745",
   "metadata": {},
   "outputs": [
    {
     "name": "stdout",
     "output_type": "stream",
     "text": [
      "15\n"
     ]
    }
   ],
   "source": [
    "#Method Definition\n",
    "##Time Complexity:O(n)\n",
    "#Space Complexity:O(n) [ n indicated the number of digits]\n",
    "def sum_of_digits(n):\n",
    "    ##base case condition\n",
    "    if n<10:\n",
    "        return n\n",
    "    else:\n",
    "        ##recursive function call\n",
    "          return n % 10 + sum_of_digits(n//10)\n",
    "          \n",
    "        \n",
    "\n",
    "## Driver Code\n",
    "n=12345\n",
    "result=sum_of_digits(n)\n",
    "print(result)"
   ]
  },
  {
   "cell_type": "code",
   "execution_count": 17,
   "id": "0de45b4a",
   "metadata": {},
   "outputs": [
    {
     "name": "stdout",
     "output_type": "stream",
     "text": [
      "65536\n"
     ]
    }
   ],
   "source": [
    "##power of a given number:\n",
    "##Time complexity:O(n)\n",
    "##Space Complexity:O(n)\n",
    "def powerOf(a,n):\n",
    "    ##base case cond\n",
    "    if n==0:\n",
    "        return 1\n",
    "    else:\n",
    "        ##recursive fun call\n",
    "        return a*powerOf(a,n-1)\n",
    "a=2\n",
    "n=16\n",
    "result=powerOf(a,n)\n",
    "print(result)\n",
    "    "
   ]
  },
  {
   "cell_type": "code",
   "execution_count": 18,
   "id": "1f74e26e",
   "metadata": {},
   "outputs": [],
   "source": [
    "##we have a anotherr approach to do same problem in a optimisied way."
   ]
  },
  {
   "cell_type": "code",
   "execution_count": 23,
   "id": "0d8e7477",
   "metadata": {},
   "outputs": [
    {
     "name": "stdout",
     "output_type": "stream",
     "text": [
      "524288\n"
     ]
    }
   ],
   "source": [
    "#method definition\n",
    "def powerFind(a,n):\n",
    "    ##base case condition\n",
    "    if n==1:\n",
    "        return a\n",
    "    else:\n",
    "        mid=n//2\n",
    "        result=powerFind(a,mid)\n",
    "        finalResult= result * result \n",
    "        ##checking whether the value of n is even or odd\n",
    "        if n%2==0:\n",
    "            return finalResult\n",
    "        else:\n",
    "            return a * finalResult\n",
    "        \n",
    "##driver code\n",
    "a=2\n",
    "n=19\n",
    "result=powerFind(a,n)\n",
    "print(result)\n"
   ]
  },
  {
   "cell_type": "code",
   "execution_count": null,
   "id": "f20d3fed",
   "metadata": {},
   "outputs": [],
   "source": [
    "def powerfind(a,n):\n",
    "    if n==1:\n",
    "        return a\n",
    "    else:\n",
    "        mid=n//2\n",
    "        result=powerfind(a,mid)\n",
    "        finalresult=result*result\n",
    "        \n",
    "        if n%2==0:\n",
    "            return finalresult\n",
    "        else:\n",
    "            return n * finalresult \n",
    "        \n",
    "        \n",
    "\n"
   ]
  },
  {
   "cell_type": "code",
   "execution_count": null,
   "id": "4840c61e",
   "metadata": {},
   "outputs": [],
   "source": []
  },
  {
   "cell_type": "code",
   "execution_count": null,
   "id": "a42197bb",
   "metadata": {},
   "outputs": [],
   "source": []
  },
  {
   "cell_type": "code",
   "execution_count": null,
   "id": "02cfbb54",
   "metadata": {},
   "outputs": [],
   "source": []
  }
 ],
 "metadata": {
  "kernelspec": {
   "display_name": "Python 3 (ipykernel)",
   "language": "python",
   "name": "python3"
  },
  "language_info": {
   "codemirror_mode": {
    "name": "ipython",
    "version": 3
   },
   "file_extension": ".py",
   "mimetype": "text/x-python",
   "name": "python",
   "nbconvert_exporter": "python",
   "pygments_lexer": "ipython3",
   "version": "3.11.5"
  }
 },
 "nbformat": 4,
 "nbformat_minor": 5
}
