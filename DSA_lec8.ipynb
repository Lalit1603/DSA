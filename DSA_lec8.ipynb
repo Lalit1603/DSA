{
 "cells": [
  {
   "cell_type": "code",
   "execution_count": 1,
   "id": "92658752",
   "metadata": {},
   "outputs": [
    {
     "data": {
      "text/plain": [
       "20"
      ]
     },
     "execution_count": 1,
     "metadata": {},
     "output_type": "execute_result"
    }
   ],
   "source": [
    "10*2"
   ]
  },
  {
   "cell_type": "code",
   "execution_count": 2,
   "id": "d06c902c",
   "metadata": {},
   "outputs": [
    {
     "data": {
      "text/plain": [
       "15"
      ]
     },
     "execution_count": 2,
     "metadata": {},
     "output_type": "execute_result"
    }
   ],
   "source": [
    "10+5"
   ]
  },
  {
   "cell_type": "code",
   "execution_count": null,
   "id": "9fe0cf84",
   "metadata": {},
   "outputs": [],
   "source": [
    "arr=[15,18,2,3,6,12]\n",
    "#this is a arry sorted once upon time someone play with it and make it unsorted and we have to find how many times this array is rotated\n",
    "#the initial array is [2,3,6,12,15,18]\n"
   ]
  },
  {
   "cell_type": "code",
   "execution_count": 7,
   "id": "4ce885ec",
   "metadata": {},
   "outputs": [
    {
     "name": "stdout",
     "output_type": "stream",
     "text": [
      "2\n"
     ]
    }
   ],
   "source": [
    "def countRoatations(arr):\n",
    "    min1 = arr[0]\n",
    "    min_index = 0 \n",
    "    \n",
    "    for i in range(1,len(arr)):\n",
    "        if (min1 > arr[i]):\n",
    "            min1 = arr[i]\n",
    "            min_index =i\n",
    "    return min_index\n",
    "print(countRoatations([15,18,2,3,6,12]))"
   ]
  },
  {
   "cell_type": "code",
   "execution_count": 18,
   "id": "2aa546a0",
   "metadata": {},
   "outputs": [
    {
     "name": "stdout",
     "output_type": "stream",
     "text": [
      "[1, 2, 3, 4, 5, 8, 9]\n",
      "9 1 8 2 5 3 4\n"
     ]
    }
   ],
   "source": [
    "def bubble_sort(arr):\n",
    "    for i in range(len(arr)-1,0,-1):\n",
    "        for j in range(i):\n",
    "            if arr[j] > arr[j+1]:\n",
    "                arr[j],arr[j+1] = arr[j+1],arr[j]\n",
    "    return arr\n",
    "arr=[3,5,2,1,9,8,4]\n",
    "result=bubble_sort(arr)\n",
    "print(result)\n",
    "\n",
    "left=0\n",
    "right = len(arr)-1\n",
    "\n",
    "while left<=right:\n",
    "    if left==right:\n",
    "        print(arr[left])\n",
    "    else:\n",
    "        print(arr[right],end=' ')\n",
    "        print(arr[left],end=' ')\n",
    "    left+=1\n",
    "    right-=1\n",
    "\n",
    "    "
   ]
  },
  {
   "cell_type": "code",
   "execution_count": 21,
   "id": "45be9785",
   "metadata": {},
   "outputs": [
    {
     "name": "stdout",
     "output_type": "stream",
     "text": [
      "8 1 6 2 5 3 4\n"
     ]
    }
   ],
   "source": [
    "def bubble_sort(arr):\n",
    "    for i in range(len(arr)-1,0,-1):\n",
    "        for j in range(i):\n",
    "            if arr[j] > arr[j+1]:\n",
    "                arr[j],arr[j+1] = arr[j+1],arr[j]\n",
    "\n",
    "                \n",
    "def printInOrder(arr):\n",
    "    bubble_sort(arr)\n",
    "\n",
    "    left=0\n",
    "    right = len(arr)-1\n",
    "\n",
    "    while left<=right:\n",
    "        if left==right:\n",
    "            print(arr[left])\n",
    "        else:\n",
    "            print(arr[right],end=' ')\n",
    "            print(arr[left],end=' ')\n",
    "        left+=1\n",
    "        right-=1\n",
    "printInOrder([3,5,1,2,8,6,4])\n",
    "    "
   ]
  },
  {
   "cell_type": "code",
   "execution_count": 22,
   "id": "477ca006",
   "metadata": {},
   "outputs": [
    {
     "name": "stdout",
     "output_type": "stream",
     "text": [
      "[10, 90, 2, 49, 1, 5, 3, 23]\n"
     ]
    }
   ],
   "source": [
    "def sortInWave(arr):\n",
    "    for i in range(0,len(arr)-1,2):\n",
    "        #compare with the left element \n",
    "        if (i > 0 and arr[i] > arr[i-1]):\n",
    "            arr[i],arr[i-1] = arr[i-1],arr[i]\n",
    "        #compare with the right element\n",
    "        if (i < len(arr)-1 and arr[i] > arr[i+1]):\n",
    "            arr[i],arr[i+1] = arr[i+1],arr[i]\n",
    "arr=[10,90,49,2,3,1,5,23]\n",
    "sortInWave(arr)\n",
    "print(arr)\n"
   ]
  },
  {
   "cell_type": "code",
   "execution_count": 25,
   "id": "48d85942",
   "metadata": {},
   "outputs": [
    {
     "name": "stdout",
     "output_type": "stream",
     "text": [
      "[1, 10, 90, 90, 2]\n"
     ]
    }
   ],
   "source": [
    "def mergeArrays(arr11,m,arr22,n):\n",
    "    #size of the arr1 is m+n it's first m elements are having numbers\n",
    "    i=m-1\n",
    "    j=n-1\n",
    "    k=(m+n)-1\n",
    "    \n",
    "    while(i>=0 and j>=0):\n",
    "        if(arr11[i] > arr22[j]):\n",
    "            arr11[k]=arr[i]\n",
    "            i-=1\n",
    "        else:\n",
    "            arr11[k]=arr[j]\n",
    "            j-=1\n",
    "        k-=1\n",
    "        \n",
    "    while(i>=0):\n",
    "        arr11[k]=arr11[i]\n",
    "        k-=1\n",
    "        i-=1\n",
    "    while(j>=0):\n",
    "        arr11[k]=arr22[j]\n",
    "        k-=1\n",
    "        j-=1\n",
    "        \n",
    "arr11=[2,6,8,-1,-1]\n",
    "arr22=[1,7]\n",
    "mergeArrays(arr11,3,arr22,2)\n",
    "print(arr11)"
   ]
  },
  {
   "cell_type": "code",
   "execution_count": 5,
   "id": "41746fc0",
   "metadata": {},
   "outputs": [
    {
     "name": "stdout",
     "output_type": "stream",
     "text": [
      "2\n",
      "3\n"
     ]
    }
   ],
   "source": [
    "#1.To find the Rotation of the array\n",
    "def findRotationofArray(arr):\n",
    "    min=arr[0]\n",
    "    min_index=0\n",
    "    \n",
    "    for i in range(1,len(arr)):\n",
    "        if (arr[i] < min):\n",
    "            min=arr[i]\n",
    "            min_index = i\n",
    "    return min_index\n",
    "arr=[15,18,2,3,6,12]\n",
    "arr1=[12,15,18,2,3,6]\n",
    "print(findRotationofArray(arr))\n",
    "print(findRotationofArray(arr1))\n",
    "#[5,9,16,18,21,24,2]"
   ]
  },
  {
   "cell_type": "code",
   "execution_count": 56,
   "id": "71c1add1",
   "metadata": {},
   "outputs": [
    {
     "name": "stdout",
     "output_type": "stream",
     "text": [
      "6\n"
     ]
    }
   ],
   "source": [
    "def findRotationofArray_usingLinearSearch(arr):\n",
    "    min_index=0\n",
    "    for i in range(len(arr)-1):\n",
    "        if arr[i] < arr[i-1] and arr[i] < arr[i+1]:\n",
    "            min_index=i      \n",
    "    \n",
    "    if min_index==0:\n",
    "        if arr[0] < arr[-1]:\n",
    "            return 0\n",
    "        else:\n",
    "            return len(arr)-1\n",
    "    return min_index\n",
    "    \n",
    "arr=[5,9,16,18,21,24,2]\n",
    "print(findRotationofArray_usingLinearSearch(arr))"
   ]
  },
  {
   "cell_type": "code",
   "execution_count": null,
   "id": "09259889",
   "metadata": {},
   "outputs": [],
   "source": [
    "def findRotationofArray_usingVariantof_BinarySearch(arr):\n",
    "    left=0\n",
    "    right=len(arr)-1\n",
    "    for i in range(len(arr)-1):\n",
    "        mid=int(left+(right-left)/2)\n",
    "        if arr[mid] < arr[mid-1] and arr[mid] < arr[mid+1]:\n",
    "            return mid\n",
    "        elif arr[mid] > arr[mid+1]:\n",
    "            left=mid+1\n",
    "        else:\n",
    "            right=mid-1\n",
    "        \n",
    "#arr=[15,18,2,3,6,12]    \n",
    "arr=[12,15,18,2,3,6]\n",
    "findRotationofArray_usingVariantof_BinarySearch(arr)"
   ]
  },
  {
   "cell_type": "code",
   "execution_count": null,
   "id": "a49c7b43",
   "metadata": {},
   "outputs": [],
   "source": [
    "\"\"\"def mergeArrays(arr11,m,arr22,n):\n",
    "    #size of the arr1 is m+n it's first m elements are having numbers\n",
    "    i=m-1\n",
    "    j=n-1\n",
    "    k=(m+n)-1\n",
    "    \n",
    "    while(i>=0 and j>=0):\n",
    "        if(arr11[i] > arr22[j]):\n",
    "            arr11[k]=arr11[i]\n",
    "            i-=1\n",
    "        else:\n",
    "            arr11[k]=arr22[j]\n",
    "            j-=1\n",
    "        k-=1\n",
    "        \n",
    "    while(i>=0):\n",
    "        arr11[k]=arr11[i]\n",
    "        k-=1\n",
    "        i-=1\n",
    "    while(j>=0):\n",
    "        arr11[k]=arr22[j]\n",
    "        k-=1\n",
    "        j-=1\n",
    "        \n",
    "arr11=[2,6,8,-1,-1]\n",
    "arr22=[1,7]\n",
    "mergeArrays(arr11,3,arr22,2)\n",
    "print(arr11)\"\"\""
   ]
  },
  {
   "cell_type": "code",
   "execution_count": null,
   "id": "39c7f6aa",
   "metadata": {},
   "outputs": [],
   "source": []
  }
 ],
 "metadata": {
  "kernelspec": {
   "display_name": "Python 3 (ipykernel)",
   "language": "python",
   "name": "python3"
  },
  "language_info": {
   "codemirror_mode": {
    "name": "ipython",
    "version": 3
   },
   "file_extension": ".py",
   "mimetype": "text/x-python",
   "name": "python",
   "nbconvert_exporter": "python",
   "pygments_lexer": "ipython3",
   "version": "3.9.12"
  }
 },
 "nbformat": 4,
 "nbformat_minor": 5
}
