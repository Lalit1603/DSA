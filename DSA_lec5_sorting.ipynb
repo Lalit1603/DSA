{
 "cells": [
  {
   "cell_type": "code",
   "execution_count": null,
   "id": "e0b5d745",
   "metadata": {},
   "outputs": [],
   "source": [
    "#3 basic sorting algorithams\n",
    "1.Bubble Sort\n",
    "2.Selection Sort\n",
    "3.Insertion Sort"
   ]
  },
  {
   "cell_type": "code",
   "execution_count": 3,
   "id": "0d4a1d75",
   "metadata": {},
   "outputs": [
    {
     "name": "stdout",
     "output_type": "stream",
     "text": [
      "[1, 2, 3, 4]\n"
     ]
    }
   ],
   "source": [
    "#1.Bubble Sort-Bubble:boil a water in a pan as the water get heated bubble started rising up is \n",
    "# going from the down\n",
    "def bubbleSort(arr):\n",
    "    for i in range(len(arr)-1,0,-1):\n",
    "        for j in range(i):\n",
    "            if (arr[j]>arr[j+1]):\n",
    "                arr[j],arr[j+1] = arr[j+1],arr[j]\n",
    "arr=[4,2,3,1]\n",
    "bubbleSort(arr)\n",
    "print(arr)\n",
    "#Time Complexity:-O(n^2)\n",
    "#Worst Case Comparisons:-n^2,when the arr is sorted in reversed order\n",
    "#Worst Case no. Swapping done:-approximately n^2\n",
    "#this is the example of stable sort:-cause the value of j>j+1 \n",
    "#in a bubble sort if we give a sorted or unsorted array it runs till n^2 \n",
    "\n"
   ]
  },
  {
   "cell_type": "code",
   "execution_count": 7,
   "id": "919a3b29",
   "metadata": {},
   "outputs": [
    {
     "name": "stdout",
     "output_type": "stream",
     "text": [
      "0\n",
      "1\n",
      "2\n"
     ]
    }
   ],
   "source": [
    "for j in range(3):\n",
    "    print(j)"
   ]
  },
  {
   "cell_type": "code",
   "execution_count": 6,
   "id": "dbff1add",
   "metadata": {},
   "outputs": [
    {
     "name": "stdout",
     "output_type": "stream",
     "text": [
      "3\n",
      "2\n",
      "1\n"
     ]
    }
   ],
   "source": [
    "for i in range(3,0,-1):\n",
    "    print(i)"
   ]
  },
  {
   "cell_type": "code",
   "execution_count": 1,
   "id": "4cbd4cfe",
   "metadata": {},
   "outputs": [
    {
     "name": "stdout",
     "output_type": "stream",
     "text": [
      "Array is already Sorted\n",
      "[1, 2, 3, 4, 5]\n"
     ]
    }
   ],
   "source": [
    "#Optimized solution of bubble sort\n",
    "#when we use a flag isSorted in following example if we pass already sorted arry it time Complexity is O(n)\n",
    "#in other hand we cant use a flag it goes till O(n^2) when we provide a sorted array also\n",
    "def bubbleSortOptimized(arr):\n",
    "    for i in range(len(arr)-1,0,-1):\n",
    "        isSorted=True\n",
    "        for j in range(i):\n",
    "            if (arr[j]>arr[j+1]):\n",
    "                isSorted=False\n",
    "                arr[j],arr[j+1] = arr[j+1],arr[j]\n",
    "                \n",
    "        if isSorted:\n",
    "            print(\"Array is already Sorted\")\n",
    "            break\n",
    "arr=[1,2,3,4,5]\n",
    "#arr=[1,2,3,5,4] this also gives the same output as the above statement gives\n",
    "bubbleSortOptimized(arr)\n",
    "print(arr)\n",
    "\n",
    "#Worst Case:-when the arr is reversed sorted :-O(n^2)\n",
    "#Best Case:-When the arr is Sorted           :-O(n)"
   ]
  },
  {
   "cell_type": "code",
   "execution_count": null,
   "id": "ae4a7db6",
   "metadata": {},
   "outputs": [],
   "source": [
    "#example for nearyly sorted array\n",
    "arr=[1,2,3,5,4]\n"
   ]
  },
  {
   "cell_type": "code",
   "execution_count": 3,
   "id": "469f9d06",
   "metadata": {},
   "outputs": [
    {
     "name": "stdout",
     "output_type": "stream",
     "text": [
      "Array is not Sorted\n"
     ]
    }
   ],
   "source": [
    "#Question:-check if the array is sorted or not\n",
    "def isSorted(arr):\n",
    "    isSorted=True\n",
    "    for i in range(len(arr)-1):\n",
    "        if arr[i]>arr[i+1]:\n",
    "            isSorted=False\n",
    "    if isSorted:\n",
    "        print(\"Array is Sorted\")\n",
    "    else:\n",
    "        print(\"Array is not Sorted\")\n",
    "arr=[1,2,3,5,4]\n",
    "result1=isSorted(arr)\n"
   ]
  },
  {
   "cell_type": "code",
   "execution_count": 3,
   "id": "0e29f084",
   "metadata": {},
   "outputs": [
    {
     "name": "stdout",
     "output_type": "stream",
     "text": [
      "[2, 3, 4, 5]\n"
     ]
    }
   ],
   "source": [
    "#Selection Sort\n",
    "def selectionSort(arr):\n",
    "    for i in range(len(arr)):\n",
    "        min1=i\n",
    "        for j in range(i+1,len(arr)):\n",
    "            if arr[j] < arr[min1]:\n",
    "                min1=j\n",
    "        arr[i],arr[min1] = arr[min1],arr[i]\n",
    "        \n",
    "    \n",
    "\n",
    "#driver code\n",
    "arr=[5,4,3,2]\n",
    "selectionSort(arr)\n",
    "print(arr)\n",
    "#inner for loop for the finding the smallest element and outer for iterating"
   ]
  },
  {
   "cell_type": "code",
   "execution_count": null,
   "id": "a57b1a6b",
   "metadata": {},
   "outputs": [],
   "source": [
    "#Insertion Sort:-/Online Sorting algorithm"
   ]
  },
  {
   "cell_type": "code",
   "execution_count": null,
   "id": "6580418e",
   "metadata": {},
   "outputs": [],
   "source": [
    "def insertionSort(arr):\n",
    "    for i in range(1,len(arr)):\n",
    "        v = arr[i]\n",
    "        j=i\n",
    "        while(j>=1 and arr[j-1]>v):\n",
    "            arr[j] = arr[j-1]\n",
    "            j-=1\n",
    "            arr[j]=v"
   ]
  },
  {
   "cell_type": "code",
   "execution_count": null,
   "id": "9b415eb1",
   "metadata": {},
   "outputs": [],
   "source": []
  },
  {
   "cell_type": "code",
   "execution_count": 3,
   "id": "3045f6da",
   "metadata": {},
   "outputs": [
    {
     "name": "stdout",
     "output_type": "stream",
     "text": [
      "0\n"
     ]
    }
   ],
   "source": [
    "#code for searching an element\n",
    "def search(arr,num):\n",
    "    for i in range(len(arr)):\n",
    "        if arr[i]==num:\n",
    "            return i\n",
    "    return -1\n",
    "print(search([5,1,2,3,4,5,6],5))"
   ]
  },
  {
   "cell_type": "code",
   "execution_count": 4,
   "id": "71438075",
   "metadata": {},
   "outputs": [],
   "source": [
    "#Binary search code\n",
    "def binarySearch(arr,num):\n",
    "    left=0\n",
    "    right=len(arr)-1\n",
    "    \n",
    "    while(left<=right):\n",
    "        mid=int(left+(right-left)/2)\n",
    "        if arr[mid] == num:\n",
    "            return mid\n",
    "        elif arr[mid] > num:\n",
    "            right = mid-1\n",
    "        else:\n",
    "            left=mid+1\n",
    "    return -1"
   ]
  },
  {
   "cell_type": "code",
   "execution_count": 5,
   "id": "0e07801c",
   "metadata": {},
   "outputs": [
    {
     "data": {
      "text/plain": [
       "3"
      ]
     },
     "execution_count": 5,
     "metadata": {},
     "output_type": "execute_result"
    }
   ],
   "source": [
    "binarySearch([1,2,3,4,5],4)"
   ]
  },
  {
   "cell_type": "code",
   "execution_count": null,
   "id": "d6a2ddfe",
   "metadata": {},
   "outputs": [],
   "source": []
  }
 ],
 "metadata": {
  "kernelspec": {
   "display_name": "Python 3 (ipykernel)",
   "language": "python",
   "name": "python3"
  },
  "language_info": {
   "codemirror_mode": {
    "name": "ipython",
    "version": 3
   },
   "file_extension": ".py",
   "mimetype": "text/x-python",
   "name": "python",
   "nbconvert_exporter": "python",
   "pygments_lexer": "ipython3",
   "version": "3.11.5"
  }
 },
 "nbformat": 4,
 "nbformat_minor": 5
}
