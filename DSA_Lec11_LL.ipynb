{
 "cells": [
  {
   "cell_type": "code",
   "execution_count": 2,
   "id": "e0b5d745",
   "metadata": {},
   "outputs": [],
   "source": [
    "#Deletion from linkList\n",
    "class Node:\n",
    "    def __init__(self, data=None, next=None):\n",
    "        self.data = data\n",
    "        self.next = next\n",
    "        \n",
    "    # method to set the data value\n",
    "    def setData(self, data):\n",
    "        self.data = data\n",
    "    \n",
    "    # method to get the data value\n",
    "    def getData(self):\n",
    "        return self.data\n",
    "    \n",
    "    # method to set the next\n",
    "    def setNext(self, next):\n",
    "        self.next = next\n",
    "    \n",
    "    # method to get the next\n",
    "    def getNext(self):\n",
    "        return self.next\n",
    "        \n",
    "head = Node(1)\n",
    "node2 = Node(2)\n",
    "node3 = Node(3)\n",
    "node4 = Node(4)\n",
    "node5 = Node(5)\n",
    "node6 = Node(6)\n",
    "node7 = Node(7)\n",
    "\n",
    "# creating the linkage\n",
    "head.setNext(node2)\n",
    "node2.setNext(node3)\n",
    "node3.setNext(node4)\n",
    "node4.setNext(node5)\n",
    "node5.setNext(node6)\n",
    "node6.setNext(node7)\n",
    "\n"
   ]
  },
  {
   "cell_type": "code",
   "execution_count": 6,
   "id": "01cd81d3",
   "metadata": {},
   "outputs": [
    {
     "ename": "SyntaxError",
     "evalue": "incomplete input (2189967189.py, line 6)",
     "output_type": "error",
     "traceback": [
      "\u001b[1;36m  Cell \u001b[1;32mIn[6], line 6\u001b[1;36m\u001b[0m\n\u001b[1;33m    traverse(head\u001b[0m\n\u001b[1;37m                 ^\u001b[0m\n\u001b[1;31mSyntaxError\u001b[0m\u001b[1;31m:\u001b[0m incomplete input\n"
     ]
    }
   ],
   "source": [
    "def traverse(head):\n",
    "    temp=head\n",
    "    while(temp):\n",
    "        print(temp.getData(),end=\"->\")\n",
    "        temp=temp.getNext() # jump to the next node\n",
    "traverse(head)S"
   ]
  },
  {
   "cell_type": "code",
   "execution_count": 12,
   "id": "ab1b06e6",
   "metadata": {},
   "outputs": [
    {
     "data": {
      "text/plain": [
       "7"
      ]
     },
     "execution_count": 12,
     "metadata": {},
     "output_type": "execute_result"
    }
   ],
   "source": [
    "def length(head):\n",
    "    temp=head\n",
    "    len=0\n",
    "    while(temp!=None):#while(temp)\n",
    "        len+=1\n",
    "        temp=temp.getNext()\n",
    "    return len\n",
    "length(head)"
   ]
  },
  {
   "cell_type": "code",
   "execution_count": 4,
   "id": "e8e0c644",
   "metadata": {},
   "outputs": [],
   "source": [
    "#Deletion in LinkList:-1.Delete the 1st Node 2.Delete the last node 3.Delete the Middle node\n",
    "def remove(head,k):#Supposed to return the new head of the transformed LL (by removing kth node)\n",
    "    #check if k is valid\n",
    "    if(k<0 or k>=length(head) or not head):\n",
    "        return head #this block for checking if the head is not NULL and k is not greater than length of ll\n",
    "    \n",
    "    if(k==0):\n",
    "        #we are removing the first element\n",
    "        head=head.getNext()\n",
    "    else:\n",
    "        #we jump to k-1th position\n",
    "        i=0\n",
    "        prev=head\n",
    "        while(i<k-1):\n",
    "            prev=prev.getNext()\n",
    "            i+=1\n",
    "        #prev will be pointing to the node left of the kth positon\n",
    "        prev.setNext(prev.getNext().getNext())\n",
    "    return head"
   ]
  },
  {
   "cell_type": "code",
   "execution_count": 13,
   "id": "2d5ced87",
   "metadata": {},
   "outputs": [
    {
     "name": "stdout",
     "output_type": "stream",
     "text": [
      "1->2->3->4->5->6->7->"
     ]
    }
   ],
   "source": [
    "traverse(head)"
   ]
  },
  {
   "cell_type": "code",
   "execution_count": 14,
   "id": "1264bd5f",
   "metadata": {},
   "outputs": [
    {
     "name": "stdout",
     "output_type": "stream",
     "text": [
      "2->3->4->5->6->7->"
     ]
    }
   ],
   "source": [
    "head=remove(head,0)\n",
    "traverse(head)"
   ]
  },
  {
   "cell_type": "code",
   "execution_count": 15,
   "id": "61cd0354",
   "metadata": {},
   "outputs": [
    {
     "name": "stdout",
     "output_type": "stream",
     "text": [
      "2->3->4->5->6->7->"
     ]
    }
   ],
   "source": [
    "traverse(head)"
   ]
  },
  {
   "cell_type": "code",
   "execution_count": 16,
   "id": "cd503ac2",
   "metadata": {},
   "outputs": [
    {
     "name": "stdout",
     "output_type": "stream",
     "text": [
      "2->3->5->6->7->"
     ]
    }
   ],
   "source": [
    "head=remove(head,2)\n",
    "traverse(head)\n"
   ]
  },
  {
   "cell_type": "code",
   "execution_count": 32,
   "id": "0658cbd5",
   "metadata": {},
   "outputs": [
    {
     "name": "stdout",
     "output_type": "stream",
     "text": [
      "2->3->5->6->"
     ]
    }
   ],
   "source": [
    "# head=remove(head,4)\n",
    "# traverse(head)"
   ]
  },
  {
   "cell_type": "code",
   "execution_count": 33,
   "id": "4b0180c5",
   "metadata": {},
   "outputs": [
    {
     "data": {
      "text/plain": [
       "4"
      ]
     },
     "execution_count": 33,
     "metadata": {},
     "output_type": "execute_result"
    }
   ],
   "source": [
    "# length(head)"
   ]
  },
  {
   "cell_type": "code",
   "execution_count": 64,
   "id": "d851fbd8",
   "metadata": {},
   "outputs": [
    {
     "name": "stdout",
     "output_type": "stream",
     "text": [
      "1->2->3->4->5->6->7->\n",
      "4\n"
     ]
    }
   ],
   "source": [
    "#find the middle element in the linked list\n",
    "def middle_of_LinkList(head):\n",
    "    slow=head\n",
    "    fast=head\n",
    "    \n",
    "    while(fast!=None and fast.getNext()!=None):\n",
    "        slow=slow.getNext()\n",
    "        fast=fast.getNext().getNext()\n",
    "    return slow.getData()\n",
    "\n",
    "head = Node(1)\n",
    "node2 = Node(2)\n",
    "node3 = Node(3)\n",
    "node4 = Node(4)\n",
    "node5 = Node(5)\n",
    "node6 = Node(6)\n",
    "node7 = Node(7)\n",
    "\n",
    "# creating the linkage\n",
    "head.setNext(node2)\n",
    "node2.setNext(node3)\n",
    "node3.setNext(node4)\n",
    "node4.setNext(node5)\n",
    "node5.setNext(node6)\n",
    "node6.setNext(node7)\n",
    "\n",
    "traverse(head)\n",
    "print()\n",
    "print(middle_of_LinkList(head))"
   ]
  },
  {
   "cell_type": "code",
   "execution_count": 55,
   "id": "cd371d07",
   "metadata": {},
   "outputs": [
    {
     "name": "stdout",
     "output_type": "stream",
     "text": [
      "1->2->3->4->5->6->\n",
      "4\n"
     ]
    }
   ],
   "source": [
    "head = Node(1)\n",
    "node2 = Node(2)\n",
    "node3 = Node(3)\n",
    "node4 = Node(4)\n",
    "node5 = Node(5)\n",
    "node6 = Node(6)\n",
    "\n",
    "\n",
    "# creating the linkage\n",
    "head.setNext(node2)\n",
    "node2.setNext(node3)\n",
    "node3.setNext(node4)\n",
    "node4.setNext(node5)\n",
    "node5.setNext(node6)\n",
    "\n",
    "\n",
    "traverse(head)\n",
    "print()\n",
    "print(middle_of_LinkList(head))"
   ]
  },
  {
   "cell_type": "code",
   "execution_count": 7,
   "id": "bdf81e0b",
   "metadata": {},
   "outputs": [
    {
     "name": "stdout",
     "output_type": "stream",
     "text": [
      "False\n"
     ]
    }
   ],
   "source": [
    "#Detect the cycle in the loop in linked list\n",
    "#this code work for non-duplicates\n",
    "def isCyclePresent(head):\n",
    "    slow=head\n",
    "    fast=head\n",
    "    \n",
    "    while(fast and fast.getNext()):\n",
    "        slow = slow.getNext()\n",
    "        fast = fast.getNext().getNext()\n",
    "        \n",
    "        if fast and slow.getData() == fast.getData():\n",
    "            return True\n",
    "        \n",
    "    return False#Cycle doesn't exist\n",
    "\n",
    "head = Node(1)\n",
    "node2 = Node(2)\n",
    "node3 = Node(3)\n",
    "node4 = Node(4)\n",
    "node5 = Node(5)\n",
    "node6 = Node(6)\n",
    "node7 = Node(7)\n",
    "\n",
    "# creating the linkage\n",
    "head.setNext(node2)\n",
    "node2.setNext(node3)\n",
    "node3.setNext(node4)\n",
    "node4.setNext(node5)\n",
    "node5.setNext(node6)\n",
    "node6.setNext(node7)\n",
    "\n",
    "\n",
    "print(isCyclePresent(head))"
   ]
  },
  {
   "cell_type": "code",
   "execution_count": 10,
   "id": "578b06ba",
   "metadata": {},
   "outputs": [
    {
     "name": "stdout",
     "output_type": "stream",
     "text": [
      "True\n"
     ]
    }
   ],
   "source": [
    "node7.setNext(node3)\n",
    "print(isCyclePresent(head))"
   ]
  },
  {
   "cell_type": "code",
   "execution_count": null,
   "id": "b1c669aa",
   "metadata": {},
   "outputs": [],
   "source": []
  },
  {
   "cell_type": "code",
   "execution_count": 12,
   "id": "4fb7d9ea",
   "metadata": {},
   "outputs": [
    {
     "name": "stdout",
     "output_type": "stream",
     "text": [
      "4\n"
     ]
    }
   ],
   "source": [
    "#find the starting point of the loop in ll\n",
    "def startingPointOfCycle(head):\n",
    "    slow = head\n",
    "    fast = head\n",
    "    isCyclePresent = False\n",
    "    while(fast and fast.getNext()):\n",
    "        slow = slow.getNext()\n",
    "        fast = fast.getNext().getNext()\n",
    "        \n",
    "        if(fast and slow.getData() == fast.getData()):\n",
    "            isCyclePresent = True\n",
    "            break\n",
    "    if not isCyclePresent:\n",
    "        return None\n",
    "    \n",
    "    temp = head\n",
    "    while(temp.getData() != slow.getData()):\n",
    "        temp = temp.getNext()\n",
    "        slow = slow.getNext()\n",
    "        \n",
    "    return temp.getData()\n",
    "\n",
    "\n",
    "\n",
    "head = Node(1)\n",
    "node2 = Node(2)\n",
    "node3 = Node(3)\n",
    "node4 = Node(4)\n",
    "node5 = Node(5)\n",
    "node6 = Node(6)\n",
    "node7 = Node(7)\n",
    "\n",
    "# creating the linkage\n",
    "head.setNext(node2)\n",
    "node2.setNext(node3)\n",
    "node3.setNext(node4)\n",
    "node4.setNext(node5)\n",
    "node5.setNext(node6)\n",
    "node6.setNext(node7)\n",
    "node7.setNext(node4)\n",
    "\n",
    "print(startingPointOfCycle(head))"
   ]
  },
  {
   "cell_type": "code",
   "execution_count": null,
   "id": "130283d6",
   "metadata": {},
   "outputs": [],
   "source": []
  }
 ],
 "metadata": {
  "kernelspec": {
   "display_name": "Python 3 (ipykernel)",
   "language": "python",
   "name": "python3"
  },
  "language_info": {
   "codemirror_mode": {
    "name": "ipython",
    "version": 3
   },
   "file_extension": ".py",
   "mimetype": "text/x-python",
   "name": "python",
   "nbconvert_exporter": "python",
   "pygments_lexer": "ipython3",
   "version": "3.11.5"
  }
 },
 "nbformat": 4,
 "nbformat_minor": 5
}
