{
 "cells": [
  {
   "cell_type": "code",
   "execution_count": 1,
   "id": "e0b5d745",
   "metadata": {},
   "outputs": [
    {
     "name": "stdout",
     "output_type": "stream",
     "text": [
      "[1, 2, 3, 5, 9]\n"
     ]
    }
   ],
   "source": [
    "def bubble_sort(arr):\n",
    "    for i in range(len(arr)-1,0,-1):\n",
    "        for j in range(i):\n",
    "            if arr[j]>arr[j+1]:\n",
    "                arr[j],arr[j+1]=arr[j+1],arr[j]\n",
    "arr=[5,3,1,9,2]\n",
    "bubble_sort(arr)\n",
    "print(arr)"
   ]
  },
  {
   "cell_type": "code",
   "execution_count": 3,
   "id": "b0de14cc",
   "metadata": {},
   "outputs": [
    {
     "name": "stdout",
     "output_type": "stream",
     "text": [
      "[1, 2, 3, 4, 5, 7, 9]\n"
     ]
    }
   ],
   "source": [
    "def selection_sort(arr):\n",
    "    for i in range(len(arr)):\n",
    "        min=i\n",
    "        for j in range(i+1,len(arr)):\n",
    "            if arr[j] < arr[min]:\n",
    "                min=j\n",
    "        arr[i],arr[min]=arr[min],arr[i]\n",
    "arr=[7,1,5,2,9,4,3]\n",
    "selection_sort(arr)\n",
    "print(arr)"
   ]
  },
  {
   "cell_type": "code",
   "execution_count": 4,
   "id": "aa6721c4",
   "metadata": {},
   "outputs": [
    {
     "data": {
      "text/plain": [
       "2"
      ]
     },
     "execution_count": 4,
     "metadata": {},
     "output_type": "execute_result"
    }
   ],
   "source": [
    "def binary_search(arr,num):\n",
    "    left=0\n",
    "    right=len(arr)-1\n",
    "    \n",
    "    while(left<=right):\n",
    "        mid=int(left+(right-left)/2)\n",
    "        if arr[mid]==num:\n",
    "            return mid\n",
    "        elif arr[mid]>num:\n",
    "            right=mid-1\n",
    "        else:\n",
    "            left=mid+1\n",
    "    return -1\n",
    "\n",
    "arr=[1,11,22,33,44]\n",
    "num=22\n",
    "binary_search(arr,num)"
   ]
  },
  {
   "cell_type": "code",
   "execution_count": 5,
   "id": "f4f0ad9b",
   "metadata": {},
   "outputs": [],
   "source": [
    "#Recursion Example"
   ]
  },
  {
   "cell_type": "code",
   "execution_count": 6,
   "id": "fb749525",
   "metadata": {},
   "outputs": [
    {
     "name": "stdout",
     "output_type": "stream",
     "text": [
      "1\n",
      "2\n",
      "3\n",
      "4\n",
      "5\n",
      "6\n"
     ]
    }
   ],
   "source": [
    "#1.Print all elements of list using recursion\n",
    "def printElement(arr,si):\n",
    "    #Base condition\n",
    "    if si>=len(arr):\n",
    "        return \n",
    "    #Logic\n",
    "    print(arr[si])\n",
    "    #Recursive Call\n",
    "    printElement(arr,si+1)\n",
    "arr=[1,2,3,4,5,6]\n",
    "si=0\n",
    "printElement(arr,si)"
   ]
  },
  {
   "cell_type": "code",
   "execution_count": 7,
   "id": "300e7641",
   "metadata": {},
   "outputs": [
    {
     "name": "stdout",
     "output_type": "stream",
     "text": [
      "6\n",
      "5\n",
      "4\n",
      "3\n",
      "2\n",
      "1\n"
     ]
    }
   ],
   "source": [
    "def printElement(arr,si):\n",
    "    #Base condition\n",
    "    if si>=len(arr):\n",
    "        return \n",
    "    #Recursive Call\n",
    "    printElement(arr,si+1)\n",
    "    #Logic\n",
    "    print(arr[si])\n",
    "    \n",
    "arr=[1,2,3,4,5,6]\n",
    "si=0\n",
    "printElement(arr,si)"
   ]
  },
  {
   "cell_type": "code",
   "execution_count": 12,
   "id": "52d5c505",
   "metadata": {},
   "outputs": [
    {
     "name": "stdout",
     "output_type": "stream",
     "text": [
      "-1\n"
     ]
    }
   ],
   "source": [
    "#find the smallest no from the list using recursion\n",
    "def find_small(arr,si):#si=startindex\n",
    "    #Base Condition\n",
    "    if si>=len(arr):\n",
    "        return 9999999999\n",
    "    else:\n",
    "        return min(arr[si],find_small(arr,si+1))\n",
    "    \n",
    "print(find_small([3,2,1,5,0,-1],0))\n",
    "    \n",
    "\n",
    "    "
   ]
  },
  {
   "cell_type": "code",
   "execution_count": 16,
   "id": "3f36069f",
   "metadata": {},
   "outputs": [
    {
     "name": "stdout",
     "output_type": "stream",
     "text": [
      "1\n",
      "3\n",
      "7\n",
      "1073741823\n"
     ]
    }
   ],
   "source": [
    "#tower of hanoi\n",
    "def moves(n,s,d,a):\n",
    "    #base condition\n",
    "    if n==1:\n",
    "        return 1\n",
    "    #move n-1,s->a,then move 1 biggest coin to s->d and then n-1 coin a-d\n",
    "    return moves(n-1,s,a,d) + 1 + moves(n-1,a,d,s)\n",
    "print(moves(1,'s','d','a'))\n",
    "print(moves(2,'s','d','a'))\n",
    "print(moves(3,'s','d','a'))\n",
    "print(moves(30,'s','d','a'))"
   ]
  },
  {
   "cell_type": "code",
   "execution_count": null,
   "id": "a098089f",
   "metadata": {},
   "outputs": [],
   "source": []
  }
 ],
 "metadata": {
  "kernelspec": {
   "display_name": "Python 3 (ipykernel)",
   "language": "python",
   "name": "python3"
  },
  "language_info": {
   "codemirror_mode": {
    "name": "ipython",
    "version": 3
   },
   "file_extension": ".py",
   "mimetype": "text/x-python",
   "name": "python",
   "nbconvert_exporter": "python",
   "pygments_lexer": "ipython3",
   "version": "3.11.5"
  }
 },
 "nbformat": 4,
 "nbformat_minor": 5
}
